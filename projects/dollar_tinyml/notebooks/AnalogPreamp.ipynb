{
 "cells": [
  {
   "cell_type": "code",
   "execution_count": 2,
   "id": "b4e3a79f-49a7-479a-9ccb-2d689681f53e",
   "metadata": {},
   "outputs": [],
   "source": [
    "%load_ext autoreload\n",
    "%autoreload\n",
    "\n",
    "import sys\n",
    "sys.path.insert(0, '..')"
   ]
  },
  {
   "cell_type": "code",
   "execution_count": 3,
   "id": "929b81c5-aef7-4763-a733-f7f8e6a0f522",
   "metadata": {},
   "outputs": [],
   "source": [
    "import pandas\n",
    "import numpy"
   ]
  },
  {
   "cell_type": "code",
   "execution_count": 4,
   "id": "c27257f7-5be8-46f5-a643-cfa929e0c939",
   "metadata": {},
   "outputs": [
    {
     "data": {
      "text/html": [
       "<div>\n",
       "<style scoped>\n",
       "    .dataframe tbody tr th:only-of-type {\n",
       "        vertical-align: middle;\n",
       "    }\n",
       "\n",
       "    .dataframe tbody tr th {\n",
       "        vertical-align: top;\n",
       "    }\n",
       "\n",
       "    .dataframe thead th {\n",
       "        text-align: right;\n",
       "    }\n",
       "</style>\n",
       "<table border=\"1\" class=\"dataframe\">\n",
       "  <thead>\n",
       "    <tr style=\"text-align: right;\">\n",
       "      <th></th>\n",
       "      <th>cost</th>\n",
       "      <th>current</th>\n",
       "      <th>sensitivity</th>\n",
       "      <th>impedance</th>\n",
       "      <th>snr</th>\n",
       "      <th>thd</th>\n",
       "      <th>highpass</th>\n",
       "      <th>comments</th>\n",
       "      <th>noisefloor</th>\n",
       "      <th>noise_spl</th>\n",
       "    </tr>\n",
       "    <tr>\n",
       "      <th>part</th>\n",
       "      <th></th>\n",
       "      <th></th>\n",
       "      <th></th>\n",
       "      <th></th>\n",
       "      <th></th>\n",
       "      <th></th>\n",
       "      <th></th>\n",
       "      <th></th>\n",
       "      <th></th>\n",
       "      <th></th>\n",
       "    </tr>\n",
       "  </thead>\n",
       "  <tbody>\n",
       "    <tr>\n",
       "      <th>LMA2718T421-OA5</th>\n",
       "      <td>0.0578</td>\n",
       "      <td>0.20</td>\n",
       "      <td>-42</td>\n",
       "      <td>300</td>\n",
       "      <td>55</td>\n",
       "      <td>0.10</td>\n",
       "      <td>200</td>\n",
       "      <td>NaN</td>\n",
       "      <td>-97</td>\n",
       "      <td>39</td>\n",
       "    </tr>\n",
       "    <tr>\n",
       "      <th>LMA2718T381-OC1</th>\n",
       "      <td>0.1468</td>\n",
       "      <td>0.20</td>\n",
       "      <td>-38</td>\n",
       "      <td>300</td>\n",
       "      <td>62</td>\n",
       "      <td>0.10</td>\n",
       "      <td>50</td>\n",
       "      <td>Similar to OA5. But has specified tolerances o...</td>\n",
       "      <td>-100</td>\n",
       "      <td>32</td>\n",
       "    </tr>\n",
       "    <tr>\n",
       "      <th>LMA2718T381-OY1</th>\n",
       "      <td>0.2753</td>\n",
       "      <td>0.20</td>\n",
       "      <td>-38</td>\n",
       "      <td>300</td>\n",
       "      <td>64</td>\n",
       "      <td>0.15</td>\n",
       "      <td>20</td>\n",
       "      <td>Similar to OC1. But has specified tolerances o...</td>\n",
       "      <td>-102</td>\n",
       "      <td>30</td>\n",
       "    </tr>\n",
       "    <tr>\n",
       "      <th>S15OT421-005</th>\n",
       "      <td>0.0888</td>\n",
       "      <td>0.15</td>\n",
       "      <td>-42</td>\n",
       "      <td>400</td>\n",
       "      <td>59</td>\n",
       "      <td>1.00</td>\n",
       "      <td>50</td>\n",
       "      <td>THD is max. Freq response only specified down ...</td>\n",
       "      <td>-101</td>\n",
       "      <td>35</td>\n",
       "    </tr>\n",
       "  </tbody>\n",
       "</table>\n",
       "</div>"
      ],
      "text/plain": [
       "                   cost  current  sensitivity  impedance  snr   thd  highpass  \\\n",
       "part                                                                            \n",
       "LMA2718T421-OA5  0.0578     0.20          -42        300   55  0.10       200   \n",
       "LMA2718T381-OC1  0.1468     0.20          -38        300   62  0.10        50   \n",
       "LMA2718T381-OY1  0.2753     0.20          -38        300   64  0.15        20   \n",
       "S15OT421-005     0.0888     0.15          -42        400   59  1.00        50   \n",
       "\n",
       "                                                          comments  \\\n",
       "part                                                                 \n",
       "LMA2718T421-OA5                                                NaN   \n",
       "LMA2718T381-OC1  Similar to OA5. But has specified tolerances o...   \n",
       "LMA2718T381-OY1  Similar to OC1. But has specified tolerances o...   \n",
       "S15OT421-005     THD is max. Freq response only specified down ...   \n",
       "\n",
       "                 noisefloor  noise_spl  \n",
       "part                                    \n",
       "LMA2718T421-OA5         -97         39  \n",
       "LMA2718T381-OC1        -100         32  \n",
       "LMA2718T381-OY1        -102         30  \n",
       "S15OT421-005           -101         35  "
      ]
     },
     "execution_count": 4,
     "metadata": {},
     "output_type": "execute_result"
    }
   ],
   "source": [
    "\n",
    "def load_microphones():\n",
    "    path = '../references/microphones/mic_specifications.csv'\n",
    "    df = pandas.read_csv(path, header=1)\n",
    "    df = df.set_index('part')\n",
    "    df['noisefloor'] = df.sensitivity - df.snr\n",
    "    df['noise_spl'] = 94 - df.snr\n",
    "    return df\n",
    "\n",
    "mics = load_microphones()\n",
    "mics"
   ]
  },
  {
   "cell_type": "code",
   "execution_count": 5,
   "id": "8f933661-5978-479d-bc91-21af010b426a",
   "metadata": {},
   "outputs": [
    {
     "data": {
      "text/plain": [
       "'<table border=\"1\" class=\"dataframe\">\\n  <thead>\\n    <tr style=\"text-align: right;\">\\n      <th></th>\\n      <th>Current (uA)</th>\\n      <th>Self noise (dBa SPLa)</th>\\n    </tr>\\n    <tr>\\n      <th>part</th>\\n      <th></th>\\n      <th></th>\\n    </tr>\\n  </thead>\\n  <tbody>\\n    <tr>\\n      <th>LMA2718T421-OA5</th>\\n      <td>200.0</td>\\n      <td>39</td>\\n    </tr>\\n    <tr>\\n      <th>S15OT421-005</th>\\n      <td>150.0</td>\\n      <td>35</td>\\n    </tr>\\n    <tr>\\n      <th>LMA2718T381-OC1</th>\\n      <td>200.0</td>\\n      <td>32</td>\\n    </tr>\\n    <tr>\\n      <th>LMA2718T381-OY1</th>\\n      <td>200.0</td>\\n      <td>30</td>\\n    </tr>\\n  </tbody>\\n</table>'"
      ]
     },
     "execution_count": 5,
     "metadata": {},
     "output_type": "execute_result"
    }
   ],
   "source": [
    "\n",
    "def print_mics(mics):\n",
    "    df = mics.copy()\n",
    "    df['current_ua'] = df.current * 1000\n",
    "    columns = {\n",
    "        'current_ua': 'Current (uA)',\n",
    "        'noise_spl': 'Self noise (dBa SPLa)',\n",
    "        #'sensitivity': \n",
    "    }\n",
    "    df = df.rename(columns=columns)\n",
    "    df = df.sort_values('cost')\n",
    "    return df[columns.values()].to_html()\n",
    "\n",
    "print_mics(mics)"
   ]
  },
  {
   "cell_type": "code",
   "execution_count": 13,
   "id": "9f67b788-5716-4fd3-8239-77ce0019bf53",
   "metadata": {},
   "outputs": [
    {
     "data": {
      "text/html": [
       "<div>\n",
       "<style scoped>\n",
       "    .dataframe tbody tr th:only-of-type {\n",
       "        vertical-align: middle;\n",
       "    }\n",
       "\n",
       "    .dataframe tbody tr th {\n",
       "        vertical-align: top;\n",
       "    }\n",
       "\n",
       "    .dataframe thead th {\n",
       "        text-align: right;\n",
       "    }\n",
       "</style>\n",
       "<table border=\"1\" class=\"dataframe\">\n",
       "  <thead>\n",
       "    <tr style=\"text-align: right;\">\n",
       "      <th></th>\n",
       "      <th>preamp_gain</th>\n",
       "    </tr>\n",
       "    <tr>\n",
       "      <th>level</th>\n",
       "      <th></th>\n",
       "    </tr>\n",
       "  </thead>\n",
       "  <tbody>\n",
       "    <tr>\n",
       "      <th>50.0</th>\n",
       "      <td>65.52</td>\n",
       "    </tr>\n",
       "    <tr>\n",
       "      <th>60.0</th>\n",
       "      <td>55.52</td>\n",
       "    </tr>\n",
       "    <tr>\n",
       "      <th>70.0</th>\n",
       "      <td>45.52</td>\n",
       "    </tr>\n",
       "    <tr>\n",
       "      <th>80.0</th>\n",
       "      <td>35.52</td>\n",
       "    </tr>\n",
       "    <tr>\n",
       "      <th>90.0</th>\n",
       "      <td>25.52</td>\n",
       "    </tr>\n",
       "  </tbody>\n",
       "</table>\n",
       "</div>"
      ],
      "text/plain": [
       "       preamp_gain\n",
       "level             \n",
       "50.0         65.52\n",
       "60.0         55.52\n",
       "70.0         45.52\n",
       "80.0         35.52\n",
       "90.0         25.52"
      ]
     },
     "execution_count": 13,
     "metadata": {},
     "output_type": "execute_result"
    }
   ],
   "source": [
    "\n",
    "def db_to_volt(dbv, ref=1.0):\n",
    "    v = ref * 10 ** (dbv/20.0)\n",
    "    return v\n",
    "\n",
    "def db_from_volt(v, ref=1.0):\n",
    "    db = 20 * numpy.log10(v/ref)\n",
    "    return db\n",
    "\n",
    "def compute_gain(input_spl):\n",
    "    mic_sensitivity = -38\n",
    "    headroom = 20.0\n",
    "    \n",
    "    # Battery down to 3.0v. Gives 1.5v centerpoint, and a 1.5v peak\n",
    "    adc_volt = 1.5\n",
    "    adc_db = db_from_volt(adc_volt) \n",
    "    \n",
    "    mic_level = (mic_sensitivity-(94-input_spl))\n",
    "    gain = adc_db - (mic_level + headroom)\n",
    "\n",
    "    return gain\n",
    "\n",
    "input_levels = pandas.DataFrame({\n",
    "    'level': [\n",
    "    50.0,\n",
    "    60.0,\n",
    "    70.0,\n",
    "    80.0,\n",
    "    90.0,\n",
    "]})\n",
    "\n",
    "gains = input_levels.copy()\n",
    "gains['preamp_gain'] = input_levels.apply(compute_gain).round(2)\n",
    "gains.set_index('level')"
   ]
  },
  {
   "cell_type": "code",
   "execution_count": 15,
   "id": "822b1c7e-ffa1-4aa4-9b6e-fb58f2b2aff3",
   "metadata": {},
   "outputs": [
    {
     "data": {
      "text/plain": [
       "17.78279410038923"
      ]
     },
     "execution_count": 15,
     "metadata": {},
     "output_type": "execute_result"
    }
   ],
   "source": [
    "db_to_volt(25)"
   ]
  },
  {
   "cell_type": "code",
   "execution_count": 21,
   "id": "495570c2-7c92-42ed-aac0-fc01556edef3",
   "metadata": {},
   "outputs": [
    {
     "data": {
      "text/html": [
       "<div>\n",
       "<style scoped>\n",
       "    .dataframe tbody tr th:only-of-type {\n",
       "        vertical-align: middle;\n",
       "    }\n",
       "\n",
       "    .dataframe tbody tr th {\n",
       "        vertical-align: top;\n",
       "    }\n",
       "\n",
       "    .dataframe thead th {\n",
       "        text-align: right;\n",
       "    }\n",
       "</style>\n",
       "<table border=\"1\" class=\"dataframe\">\n",
       "  <thead>\n",
       "    <tr style=\"text-align: right;\">\n",
       "      <th></th>\n",
       "      <th></th>\n",
       "      <th>cost</th>\n",
       "      <th>current</th>\n",
       "      <th>noise_density</th>\n",
       "      <th>slewrate</th>\n",
       "      <th>gbp</th>\n",
       "    </tr>\n",
       "    <tr>\n",
       "      <th>part</th>\n",
       "      <th>manufacturer</th>\n",
       "      <th></th>\n",
       "      <th></th>\n",
       "      <th></th>\n",
       "      <th></th>\n",
       "      <th></th>\n",
       "    </tr>\n",
       "  </thead>\n",
       "  <tbody>\n",
       "    <tr>\n",
       "      <th>LMV321IDBVR</th>\n",
       "      <th>UMW</th>\n",
       "      <td>0.0290</td>\n",
       "      <td>0.06</td>\n",
       "      <td>27.0</td>\n",
       "      <td>0.52</td>\n",
       "      <td>1.00</td>\n",
       "    </tr>\n",
       "    <tr>\n",
       "      <th>TLV333</th>\n",
       "      <th>TI</th>\n",
       "      <td>0.2085</td>\n",
       "      <td>0.06</td>\n",
       "      <td>55.0</td>\n",
       "      <td>0.16</td>\n",
       "      <td>0.35</td>\n",
       "    </tr>\n",
       "    <tr>\n",
       "      <th>LM321LVIDBVR</th>\n",
       "      <th>TI</th>\n",
       "      <td>0.0320</td>\n",
       "      <td>0.09</td>\n",
       "      <td>40.0</td>\n",
       "      <td>1.50</td>\n",
       "      <td>1.00</td>\n",
       "    </tr>\n",
       "    <tr>\n",
       "      <th>GS8621</th>\n",
       "      <th>Gainsil</th>\n",
       "      <td>0.0702</td>\n",
       "      <td>0.25</td>\n",
       "      <td>18.0</td>\n",
       "      <td>1.66</td>\n",
       "      <td>3.00</td>\n",
       "    </tr>\n",
       "    <tr>\n",
       "      <th>GS8721</th>\n",
       "      <th>Gailsil</th>\n",
       "      <td>0.0847</td>\n",
       "      <td>1.50</td>\n",
       "      <td>12.0</td>\n",
       "      <td>9.00</td>\n",
       "      <td>11.00</td>\n",
       "    </tr>\n",
       "    <tr>\n",
       "      <th>LMV721</th>\n",
       "      <th>Tokmas</th>\n",
       "      <td>0.0732</td>\n",
       "      <td>1.50</td>\n",
       "      <td>11.5</td>\n",
       "      <td>9.00</td>\n",
       "      <td>11.00</td>\n",
       "    </tr>\n",
       "  </tbody>\n",
       "</table>\n",
       "</div>"
      ],
      "text/plain": [
       "                             cost  current  noise_density  slewrate    gbp\n",
       "part         manufacturer                                                 \n",
       "LMV321IDBVR  UMW           0.0290     0.06           27.0      0.52   1.00\n",
       "TLV333       TI            0.2085     0.06           55.0      0.16   0.35\n",
       "LM321LVIDBVR TI            0.0320     0.09           40.0      1.50   1.00\n",
       "GS8621       Gainsil       0.0702     0.25           18.0      1.66   3.00\n",
       "GS8721       Gailsil       0.0847     1.50           12.0      9.00  11.00\n",
       "LMV721       Tokmas        0.0732     1.50           11.5      9.00  11.00"
      ]
     },
     "execution_count": 21,
     "metadata": {},
     "output_type": "execute_result"
    }
   ],
   "source": [
    "\n",
    "def load_opamps():\n",
    "    path = '../references/microphones/opamp_specifications.csv'\n",
    "    df = pandas.read_csv(path, header=1)\n",
    "    df = df.set_index(['part', 'manufacturer'])\n",
    "    return df\n",
    "\n",
    "opamps = load_opamps()\n",
    "opamps\n"
   ]
  },
  {
   "cell_type": "code",
   "execution_count": 75,
   "id": "02b7422e-7076-4e9b-8f6f-c5750529a07a",
   "metadata": {},
   "outputs": [
    {
     "data": {
      "text/plain": [
       "52.04119982655925"
      ]
     },
     "execution_count": 75,
     "metadata": {},
     "output_type": "execute_result"
    }
   ],
   "source": [
    "db_from_volt(400)"
   ]
  },
  {
   "cell_type": "code",
   "execution_count": 16,
   "id": "44781f40-08c9-45a3-a66c-529d75cf3e28",
   "metadata": {},
   "outputs": [
    {
     "data": {
      "text/plain": [
       "100.0"
      ]
     },
     "execution_count": 16,
     "metadata": {},
     "output_type": "execute_result"
    }
   ],
   "source": [
    "db_to_volt(40)"
   ]
  },
  {
   "cell_type": "code",
   "execution_count": 29,
   "id": "c251ab41-6772-4d3d-8f65-b4f6df008dcb",
   "metadata": {},
   "outputs": [
    {
     "name": "stdout",
     "output_type": "stream",
     "text": [
      "20.0\n"
     ]
    }
   ],
   "source": [
    "\n",
    "\n",
    "def opamp_noise_density_max(mic_noise, margin_db=6, bandwidth=20000):\n",
    "    \"\"\"\n",
    "    Returns the maxinum noise density [nV/√Hz]\n",
    "    \"\"\"\n",
    "    preamp_noise_db = mic_noise - margin_db\n",
    "    m = numpy.sqrt(bandwidth)\n",
    "    density_v = db_to_volt(preamp_noise_db) / m\n",
    "    density_nv = density_v / 1e-9\n",
    "\n",
    "    return density_nv\n",
    "\n",
    "def test_opamp_noise_density():\n",
    "    \n",
    "    d = opamp_noise_density_max(-103, margin_db=10)\n",
    "    assert int(d) == 15, d\n",
    "\n",
    "test_opamp_noise_density()"
   ]
  },
  {
   "cell_type": "code",
   "execution_count": 27,
   "id": "6302ab7b-7823-43ab-9508-c742f53b6366",
   "metadata": {},
   "outputs": [
    {
     "data": {
      "text/plain": [
       "part\n",
       "LMA2718T421-OA5    50.059326\n",
       "LMA2718T381-OC1    35.439289\n",
       "LMA2718T381-OY1    28.150428\n",
       "S15OT421-005       31.585300\n",
       "Name: noisefloor, dtype: float64"
      ]
     },
     "execution_count": 27,
     "metadata": {},
     "output_type": "execute_result"
    }
   ],
   "source": [
    "\n",
    "mics.noisefloor.apply(opamp_noise_density_max)\n"
   ]
  },
  {
   "cell_type": "code",
   "execution_count": 37,
   "id": "c5e7bb96-e513-4683-b2f4-3d3f1b6482aa",
   "metadata": {},
   "outputs": [
    {
     "data": {
      "text/plain": [
       "0.25132741228718347"
      ]
     },
     "execution_count": 37,
     "metadata": {},
     "output_type": "execute_result"
    }
   ],
   "source": [
    "\n",
    "def slew_rate(vp, fmax=20000):\n",
    "    sr_v_s = 2 * numpy.pi * fmax * vp\n",
    "    sr_v_us = sr_v_s / 1e6\n",
    "    return sr_v_us\n",
    "\n",
    "slew_rate(2.0)\n",
    "\n"
   ]
  },
  {
   "cell_type": "code",
   "execution_count": 19,
   "id": "7d94ab7f-b1b1-4c13-b5d1-9c2be8c8c943",
   "metadata": {},
   "outputs": [
    {
     "data": {
      "text/plain": [
       "3.2"
      ]
     },
     "execution_count": 19,
     "metadata": {},
     "output_type": "execute_result"
    }
   ],
   "source": [
    "def gain_bandwidth(gain, bandwidth=20000, factor=2.0):\n",
    "    gbp = gain * (bandwidth * factor)\n",
    "    gbp_mhz = gbp / 1e6\n",
    "    return gbp_mhz\n",
    "\n",
    "gain_bandwidth(100, bandwidth=16000)"
   ]
  },
  {
   "cell_type": "code",
   "execution_count": null,
   "id": "acc10cc2-3e22-47fc-bc91-a8a40e8acb59",
   "metadata": {},
   "outputs": [],
   "source": []
  }
 ],
 "metadata": {
  "kernelspec": {
   "display_name": "Python 3 (ipykernel)",
   "language": "python",
   "name": "python3"
  },
  "language_info": {
   "codemirror_mode": {
    "name": "ipython",
    "version": 3
   },
   "file_extension": ".py",
   "mimetype": "text/x-python",
   "name": "python",
   "nbconvert_exporter": "python",
   "pygments_lexer": "ipython3",
   "version": "3.11.6"
  }
 },
 "nbformat": 4,
 "nbformat_minor": 5
}
