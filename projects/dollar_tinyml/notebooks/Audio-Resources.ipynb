{
 "cells": [
  {
   "cell_type": "code",
   "execution_count": 33,
   "id": "dbb23d56-f284-44a1-8577-e2b47fcdceb9",
   "metadata": {},
   "outputs": [],
   "source": [
    "%load_ext autoreload\n",
    "%autoreload\n"
   ]
  },
  {
   "cell_type": "code",
   "execution_count": 2,
   "id": "26a01fb6-31b8-4be1-82d0-ef4556cdf340",
   "metadata": {},
   "outputs": [],
   "source": [
    "\n",
    "import pandas\n",
    "import numpy\n"
   ]
  },
  {
   "cell_type": "code",
   "execution_count": 11,
   "id": "70e9c336-74bc-4676-ae57-1df705dc5f0e",
   "metadata": {},
   "outputs": [
    {
     "data": {
      "text/html": [
       "<div>\n",
       "<style scoped>\n",
       "    .dataframe tbody tr th:only-of-type {\n",
       "        vertical-align: middle;\n",
       "    }\n",
       "\n",
       "    .dataframe tbody tr th {\n",
       "        vertical-align: top;\n",
       "    }\n",
       "\n",
       "    .dataframe thead th {\n",
       "        text-align: right;\n",
       "    }\n",
       "</style>\n",
       "<table border=\"1\" class=\"dataframe\">\n",
       "  <thead>\n",
       "    <tr style=\"text-align: right;\">\n",
       "      <th></th>\n",
       "      <th></th>\n",
       "      <th></th>\n",
       "      <th></th>\n",
       "      <th></th>\n",
       "      <th>samples</th>\n",
       "      <th>size</th>\n",
       "      <th>percent</th>\n",
       "    </tr>\n",
       "    <tr>\n",
       "      <th>buffers</th>\n",
       "      <th>channels</th>\n",
       "      <th>bits</th>\n",
       "      <th>samplerate</th>\n",
       "      <th>duration</th>\n",
       "      <th></th>\n",
       "      <th></th>\n",
       "      <th></th>\n",
       "    </tr>\n",
       "  </thead>\n",
       "  <tbody>\n",
       "    <tr>\n",
       "      <th>2.0</th>\n",
       "      <th>1</th>\n",
       "      <th>16</th>\n",
       "      <th>16000</th>\n",
       "      <th>0.020</th>\n",
       "      <td>320</td>\n",
       "      <td>1280</td>\n",
       "      <td>31.2%</td>\n",
       "    </tr>\n",
       "    <tr>\n",
       "      <th rowspan=\"3\" valign=\"top\">1.1</th>\n",
       "      <th rowspan=\"3\" valign=\"top\">1</th>\n",
       "      <th rowspan=\"3\" valign=\"top\">16</th>\n",
       "      <th rowspan=\"2\" valign=\"top\">16000</th>\n",
       "      <th>0.020</th>\n",
       "      <td>320</td>\n",
       "      <td>704</td>\n",
       "      <td>17.2%</td>\n",
       "    </tr>\n",
       "    <tr>\n",
       "      <th>0.016</th>\n",
       "      <td>256</td>\n",
       "      <td>564</td>\n",
       "      <td>13.8%</td>\n",
       "    </tr>\n",
       "    <tr>\n",
       "      <th>8000</th>\n",
       "      <th>0.016</th>\n",
       "      <td>128</td>\n",
       "      <td>282</td>\n",
       "      <td>6.9%</td>\n",
       "    </tr>\n",
       "  </tbody>\n",
       "</table>\n",
       "</div>"
      ],
      "text/plain": [
       "                                           samples  size percent\n",
       "buffers channels bits samplerate duration                       \n",
       "2.0     1        16   16000      0.020         320  1280   31.2%\n",
       "1.1     1        16   16000      0.020         320   704   17.2%\n",
       "                                 0.016         256   564   13.8%\n",
       "                      8000       0.016         128   282    6.9%"
      ]
     },
     "execution_count": 11,
     "metadata": {},
     "output_type": "execute_result"
    }
   ],
   "source": [
    "\n",
    "cases = pandas.DataFrame([\n",
    "\n",
    "    (2, 1, 16, 16000, 0.020),\n",
    "    (1.1, 1, 16, 16000, 0.020),\n",
    "\n",
    "    (1.1, 1, 16, 16000, 0.016),\n",
    "    (1.1, 1, 16, 8000, 0.016),\n",
    "    \n",
    "], columns=['buffers', 'channels', 'bits', 'samplerate', 'duration'])\n",
    "\n",
    "c = cases\n",
    "c['samples'] = (c.samplerate*c.duration).astype(int)\n",
    "c['size'] = numpy.ceil(c.buffers*c.channels*numpy.ceil(c.bits/8)*c.samples).astype(int)\n",
    "c['percent'] = ((c['size'] / 4096) * 100).round(1).astype(str) + '%'\n",
    "\n",
    "cases = c.set_index(['buffers', 'channels', 'bits', 'samplerate', 'duration'])\n",
    "cases"
   ]
  },
  {
   "cell_type": "code",
   "execution_count": 12,
   "id": "958637bd-2f28-4816-a08f-28fd15363607",
   "metadata": {},
   "outputs": [
    {
     "data": {
      "text/plain": [
       "buffers  channels  bits  samplerate  duration\n",
       "2.0      1         16    16000       0.020       1280\n",
       "1.1      1         16    16000       0.020       1280\n",
       "                                     0.016       1024\n",
       "                         8000        0.016        512\n",
       "Name: samples, dtype: int64"
      ]
     },
     "execution_count": 12,
     "metadata": {},
     "output_type": "execute_result"
    }
   ],
   "source": [
    "# FFT RAM needs\n",
    "\n",
    "def fft_ram(samples):\n",
    "    return 2*samples*2\n",
    "\n",
    "cases.samples.apply(fft_ram)\n",
    "\n"
   ]
  },
  {
   "cell_type": "code",
   "execution_count": 18,
   "id": "d3deef02-5f04-4a83-9457-fdfe93a9edb7",
   "metadata": {},
   "outputs": [
    {
     "data": {
      "text/plain": [
       "0    650.0\n",
       "1    650.0\n",
       "2    819.0\n",
       "3    819.0\n",
       "Name: duration, dtype: float64"
      ]
     },
     "execution_count": 18,
     "metadata": {},
     "output_type": "execute_result"
    }
   ],
   "source": [
    "\n",
    "def melspec_size(duration, bands=13):\n",
    "    per_s = numpy.ceil(1.0/duration)\n",
    "    size = (per_s * bands * 1)\n",
    "    return size\n",
    "\n",
    "cases.reset_index().duration.apply(melspec_size)\n"
   ]
  },
  {
   "cell_type": "code",
   "execution_count": 19,
   "id": "823065ba-72e4-4db1-bc54-08ff2234f59a",
   "metadata": {},
   "outputs": [
    {
     "data": {
      "text/plain": [
       "2407"
      ]
     },
     "execution_count": 19,
     "metadata": {},
     "output_type": "execute_result"
    }
   ],
   "source": [
    "564+1024+819"
   ]
  },
  {
   "cell_type": "code",
   "execution_count": 20,
   "id": "de9595ee-d2e7-44c4-a979-daed2d626cb0",
   "metadata": {},
   "outputs": [
    {
     "data": {
      "text/plain": [
       "1613"
      ]
     },
     "execution_count": 20,
     "metadata": {},
     "output_type": "execute_result"
    }
   ],
   "source": [
    "282+512+819"
   ]
  },
  {
   "cell_type": "code",
   "execution_count": 22,
   "id": "d868103e-4c56-4c84-9a57-2e4ade3a321f",
   "metadata": {},
   "outputs": [],
   "source": [
    "# Might need to use 8k sampelrate instead of 16k\n",
    "# 256 FFT probably the way to go?\n",
    "# If keeping 1 second context window, need MFCC or similar feature reduction. Must store as 8 bit, non-linear comp needed?\n",
    "# Streaming processing, that only needs 1 frame instead of context window, would be beneficial\n"
   ]
  },
  {
   "cell_type": "code",
   "execution_count": 4,
   "id": "589aac5f-614d-4247-8cc1-3a305643c0d2",
   "metadata": {},
   "outputs": [
    {
     "data": {
      "text/plain": [
       "4736"
      ]
     },
     "execution_count": 4,
     "metadata": {},
     "output_type": "execute_result"
    }
   ],
   "source": [
    "# FLASH usage\n",
    "# fft twiddle, Hann window, mel filters (sparse)\n",
    "(256*2*2) + (256*2) + (40*40*2)"
   ]
  },
  {
   "cell_type": "code",
   "execution_count": null,
   "id": "12a675e2-bb6d-47cf-a197-8de87ce8a848",
   "metadata": {},
   "outputs": [],
   "source": []
  }
 ],
 "metadata": {
  "kernelspec": {
   "display_name": "Python 3 (ipykernel)",
   "language": "python",
   "name": "python3"
  },
  "language_info": {
   "codemirror_mode": {
    "name": "ipython",
    "version": 3
   },
   "file_extension": ".py",
   "mimetype": "text/x-python",
   "name": "python",
   "nbconvert_exporter": "python",
   "pygments_lexer": "ipython3",
   "version": "3.11.6"
  }
 },
 "nbformat": 4,
 "nbformat_minor": 5
}
