{
 "cells": [
  {
   "cell_type": "code",
   "execution_count": 1,
   "id": "2a83b9e1-7009-4266-bc40-25b9b87bda6a",
   "metadata": {
    "tags": []
   },
   "outputs": [],
   "source": [
    "import pandas\n",
    "import numpy\n",
    "\n",
    "import seaborn\n",
    "from matplotlib import pyplot as plt"
   ]
  },
  {
   "cell_type": "code",
   "execution_count": 2,
   "id": "cc3bf5e9-a692-417b-bd6b-df64f58b02c5",
   "metadata": {
    "tags": []
   },
   "outputs": [
    {
     "data": {
      "text/html": [
       "<div>\n",
       "<style scoped>\n",
       "    .dataframe tbody tr th:only-of-type {\n",
       "        vertical-align: middle;\n",
       "    }\n",
       "\n",
       "    .dataframe tbody tr th {\n",
       "        vertical-align: top;\n",
       "    }\n",
       "\n",
       "    .dataframe thead th {\n",
       "        text-align: right;\n",
       "    }\n",
       "</style>\n",
       "<table border=\"1\" class=\"dataframe\">\n",
       "  <thead>\n",
       "    <tr style=\"text-align: right;\">\n",
       "      <th></th>\n",
       "      <th>filename</th>\n",
       "      <th>tick</th>\n",
       "      <th>r</th>\n",
       "      <th>g</th>\n",
       "      <th>b</th>\n",
       "      <th>button</th>\n",
       "      <th>section</th>\n",
       "      <th>label</th>\n",
       "    </tr>\n",
       "  </thead>\n",
       "  <tbody>\n",
       "    <tr>\n",
       "      <th>0</th>\n",
       "      <td>cards-2hz-100ms-2.csv</td>\n",
       "      <td>36000</td>\n",
       "      <td>84.0</td>\n",
       "      <td>37.0</td>\n",
       "      <td>193.0</td>\n",
       "      <td>0.0</td>\n",
       "      <td>NaN</td>\n",
       "      <td>ambient</td>\n",
       "    </tr>\n",
       "    <tr>\n",
       "      <th>1</th>\n",
       "      <td>cards-2hz-100ms-2.csv</td>\n",
       "      <td>36500</td>\n",
       "      <td>83.0</td>\n",
       "      <td>36.0</td>\n",
       "      <td>192.0</td>\n",
       "      <td>0.0</td>\n",
       "      <td>NaN</td>\n",
       "      <td>ambient</td>\n",
       "    </tr>\n",
       "    <tr>\n",
       "      <th>2</th>\n",
       "      <td>cards-2hz-100ms-2.csv</td>\n",
       "      <td>37000</td>\n",
       "      <td>84.0</td>\n",
       "      <td>36.0</td>\n",
       "      <td>193.0</td>\n",
       "      <td>0.0</td>\n",
       "      <td>NaN</td>\n",
       "      <td>ambient</td>\n",
       "    </tr>\n",
       "    <tr>\n",
       "      <th>3</th>\n",
       "      <td>cards-2hz-100ms-2.csv</td>\n",
       "      <td>37500</td>\n",
       "      <td>83.0</td>\n",
       "      <td>35.0</td>\n",
       "      <td>191.0</td>\n",
       "      <td>0.0</td>\n",
       "      <td>NaN</td>\n",
       "      <td>ambient</td>\n",
       "    </tr>\n",
       "    <tr>\n",
       "      <th>4</th>\n",
       "      <td>cards-2hz-100ms-2.csv</td>\n",
       "      <td>38000</td>\n",
       "      <td>84.0</td>\n",
       "      <td>36.0</td>\n",
       "      <td>192.0</td>\n",
       "      <td>0.0</td>\n",
       "      <td>NaN</td>\n",
       "      <td>ambient</td>\n",
       "    </tr>\n",
       "  </tbody>\n",
       "</table>\n",
       "</div>"
      ],
      "text/plain": [
       "                filename   tick     r     g      b  button  section    label\n",
       "0  cards-2hz-100ms-2.csv  36000  84.0  37.0  193.0     0.0      NaN  ambient\n",
       "1  cards-2hz-100ms-2.csv  36500  83.0  36.0  192.0     0.0      NaN  ambient\n",
       "2  cards-2hz-100ms-2.csv  37000  84.0  36.0  193.0     0.0      NaN  ambient\n",
       "3  cards-2hz-100ms-2.csv  37500  83.0  35.0  191.0     0.0      NaN  ambient\n",
       "4  cards-2hz-100ms-2.csv  38000  84.0  36.0  192.0     0.0      NaN  ambient"
      ]
     },
     "execution_count": 2,
     "metadata": {},
     "output_type": "execute_result"
    }
   ],
   "source": [
    "\n",
    "\n",
    "def load_dataset(path):\n",
    "\n",
    "    df = pandas.read_csv(path)\n",
    "    \n",
    "    return df\n",
    "\n",
    "   \n",
    "path = './dataset/cards-cleaned-1.csv'\n",
    "data = load_dataset(path)\n",
    "data.head()"
   ]
  },
  {
   "cell_type": "code",
   "execution_count": 3,
   "id": "0672ebe5-c5e9-4e32-99c9-fb0fb7322137",
   "metadata": {
    "tags": []
   },
   "outputs": [
    {
     "data": {
      "text/plain": [
       "ambient      187\n",
       "Purple        30\n",
       "Black         29\n",
       "Pink          29\n",
       "Blue          29\n",
       "Grey          28\n",
       "Red           28\n",
       "DarkBlue      28\n",
       "PaleGreen     27\n",
       "White         26\n",
       "Yellow        25\n",
       "Name: label, dtype: int64"
      ]
     },
     "execution_count": 3,
     "metadata": {},
     "output_type": "execute_result"
    }
   ],
   "source": [
    "data.label.value_counts()"
   ]
  },
  {
   "cell_type": "code",
   "execution_count": 52,
   "id": "25836e24-cd9f-4dbd-9cd0-7e5fc36b5cac",
   "metadata": {},
   "outputs": [
    {
     "data": {
      "text/plain": [
       "Purple       30\n",
       "Black        29\n",
       "Pink         29\n",
       "Blue         29\n",
       "Grey         28\n",
       "Red          28\n",
       "DarkBlue     28\n",
       "PaleGreen    27\n",
       "White        26\n",
       "Yellow       25\n",
       "Name: label, dtype: int64"
      ]
     },
     "execution_count": 52,
     "metadata": {},
     "output_type": "execute_result"
    }
   ],
   "source": [
    "\n",
    "def undersample_class(data, label='ambient', random_state=1, target = 30):\n",
    "    \n",
    "    data = data.copy() # avoid mutating input\n",
    "    is_target = data['label'] == label\n",
    "    sampled = data[is_target].sample(n=target, random_state=random_state)\n",
    "    out = pandas.concat([ data[~is_target], sampled ])\n",
    "    return out\n",
    "\n",
    "cleaned = undersample_class(data)\n",
    "cleaned = cleaned.dropna(subset=['label', 'section'])\n",
    "cleaned.label.value_counts()"
   ]
  },
  {
   "cell_type": "code",
   "execution_count": null,
   "id": "02d3fca0-035c-4eca-92e6-039cccdf0b7a",
   "metadata": {},
   "outputs": [],
   "source": [
    "\n",
    "# TODO: setup 2d color space comparisons\n",
    "# PCA2, YCbCr, CIELAB, CIELUV, HSL, HSV, PLSR/LDA\n",
    "# Plot the samples in all color spaces\n",
    "# Decide on a space to use\n",
    "\n",
    "# MAYBE: illustrate the spaces in 3d ?\n"
   ]
  },
  {
   "cell_type": "code",
   "execution_count": 61,
   "id": "7af51f57-54fc-45bc-a1f7-67ffbd4ba0c6",
   "metadata": {},
   "outputs": [
    {
     "data": {
      "text/plain": [
       "train    211\n",
       "test      68\n",
       "Name: split, dtype: int64"
      ]
     },
     "execution_count": 61,
     "metadata": {},
     "output_type": "execute_result"
    }
   ],
   "source": [
    "from sklearn.model_selection import GroupShuffleSplit\n",
    "\n",
    "def test_split_grouped(df, group, test_size=0.20, random_state=3):\n",
    "    df = df.reset_index() # use numerical index\n",
    "    groups = df[group]\n",
    "\n",
    "    out = df.copy()\n",
    "    \n",
    "    gss = GroupShuffleSplit(n_splits=1, test_size=test_size, random_state=random_state)\n",
    "    for i, (train_index, test_index) in enumerate(gss.split(df, groups=groups)):\n",
    "\n",
    "        out.loc[train_index, 'split'] = 'train'\n",
    "        out.loc[test_index, 'split'] = 'test'\n",
    "    \n",
    "    return out\n",
    "\n",
    "data = test_split_grouped(cleaned, group='filename')\n",
    "data.split.value_counts()\n"
   ]
  },
  {
   "cell_type": "code",
   "execution_count": 62,
   "id": "0e0fc731-cbd1-4962-87b4-2fcca5d816b7",
   "metadata": {},
   "outputs": [
    {
     "data": {
      "text/plain": [
       "Purple       23\n",
       "Black        22\n",
       "Grey         22\n",
       "Pink         22\n",
       "Blue         22\n",
       "Red          21\n",
       "DarkBlue     21\n",
       "White        20\n",
       "Yellow       19\n",
       "PaleGreen    19\n",
       "Name: label, dtype: int64"
      ]
     },
     "execution_count": 62,
     "metadata": {},
     "output_type": "execute_result"
    }
   ],
   "source": [
    "data[data.split == 'train'].label.value_counts()"
   ]
  },
  {
   "cell_type": "code",
   "execution_count": null,
   "id": "ff246096-a8db-4388-ad39-68a3c4de5dd7",
   "metadata": {},
   "outputs": [],
   "source": [
    "KNeighborsClassifier(n_neighbors=5)"
   ]
  },
  {
   "cell_type": "code",
   "execution_count": 91,
   "id": "a6c2a740-9d3b-490c-94ac-f6d4f7804668",
   "metadata": {},
   "outputs": [
    {
     "data": {
      "application/vnd.plotly.v1+json": {
       "config": {
        "plotlyServerURL": "https://plot.ly"
       },
       "data": [
        {
         "alignmentgroup": "True",
         "boxpoints": "all",
         "fillcolor": "rgba(255,255,255,0)",
         "hoveron": "points",
         "hovertemplate": "model=%{x}<br>accuracy=%{y}<extra></extra>",
         "legendgroup": "",
         "line": {
          "color": "rgba(255,255,255,0)"
         },
         "marker": {
          "color": "#636efa"
         },
         "name": "",
         "offsetgroup": "",
         "orientation": "v",
         "pointpos": 0,
         "showlegend": false,
         "type": "box",
         "x": [
          "pca2-centroid",
          "pca2-centroid",
          "pca2-centroid",
          "pca2-centroid",
          "pca2-centroid",
          "pca2-centroid",
          "pca2-centroid",
          "pca2-centroid",
          "pca2-centroid",
          "pca2-centroid",
          "pca2-knn",
          "pca2-knn",
          "pca2-knn",
          "pca2-knn",
          "pca2-knn",
          "pca2-knn",
          "pca2-knn",
          "pca2-knn",
          "pca2-knn",
          "pca2-knn",
          "rgb-randomforest",
          "rgb-randomforest",
          "rgb-randomforest",
          "rgb-randomforest",
          "rgb-randomforest",
          "rgb-randomforest",
          "rgb-randomforest",
          "rgb-randomforest",
          "rgb-randomforest",
          "rgb-randomforest"
         ],
         "x0": " ",
         "xaxis": "x",
         "y": [
          0.8987341772151899,
          1,
          0.8987341772151899,
          1,
          1,
          1,
          1,
          1,
          0.8987341772151899,
          0.8987341772151899,
          0.8987341772151899,
          0.8867924528301887,
          0.8987341772151899,
          0.9493670886075949,
          0.8867924528301887,
          0.8867924528301887,
          0.8867924528301887,
          0.8867924528301887,
          0.8987341772151899,
          0.8987341772151899,
          0.8987341772151899,
          0.8867924528301887,
          1,
          1,
          0.8867924528301887,
          0.8301886792452831,
          0.9811320754716981,
          0.8301886792452831,
          1,
          1
         ],
         "y0": " ",
         "yaxis": "y"
        }
       ],
       "layout": {
        "boxmode": "group",
        "height": 400,
        "legend": {
         "tracegroupgap": 0
        },
        "margin": {
         "t": 60
        },
        "template": {
         "data": {
          "bar": [
           {
            "error_x": {
             "color": "#2a3f5f"
            },
            "error_y": {
             "color": "#2a3f5f"
            },
            "marker": {
             "line": {
              "color": "#E5ECF6",
              "width": 0.5
             },
             "pattern": {
              "fillmode": "overlay",
              "size": 10,
              "solidity": 0.2
             }
            },
            "type": "bar"
           }
          ],
          "barpolar": [
           {
            "marker": {
             "line": {
              "color": "#E5ECF6",
              "width": 0.5
             },
             "pattern": {
              "fillmode": "overlay",
              "size": 10,
              "solidity": 0.2
             }
            },
            "type": "barpolar"
           }
          ],
          "carpet": [
           {
            "aaxis": {
             "endlinecolor": "#2a3f5f",
             "gridcolor": "white",
             "linecolor": "white",
             "minorgridcolor": "white",
             "startlinecolor": "#2a3f5f"
            },
            "baxis": {
             "endlinecolor": "#2a3f5f",
             "gridcolor": "white",
             "linecolor": "white",
             "minorgridcolor": "white",
             "startlinecolor": "#2a3f5f"
            },
            "type": "carpet"
           }
          ],
          "choropleth": [
           {
            "colorbar": {
             "outlinewidth": 0,
             "ticks": ""
            },
            "type": "choropleth"
           }
          ],
          "contour": [
           {
            "colorbar": {
             "outlinewidth": 0,
             "ticks": ""
            },
            "colorscale": [
             [
              0,
              "#0d0887"
             ],
             [
              0.1111111111111111,
              "#46039f"
             ],
             [
              0.2222222222222222,
              "#7201a8"
             ],
             [
              0.3333333333333333,
              "#9c179e"
             ],
             [
              0.4444444444444444,
              "#bd3786"
             ],
             [
              0.5555555555555556,
              "#d8576b"
             ],
             [
              0.6666666666666666,
              "#ed7953"
             ],
             [
              0.7777777777777778,
              "#fb9f3a"
             ],
             [
              0.8888888888888888,
              "#fdca26"
             ],
             [
              1,
              "#f0f921"
             ]
            ],
            "type": "contour"
           }
          ],
          "contourcarpet": [
           {
            "colorbar": {
             "outlinewidth": 0,
             "ticks": ""
            },
            "type": "contourcarpet"
           }
          ],
          "heatmap": [
           {
            "colorbar": {
             "outlinewidth": 0,
             "ticks": ""
            },
            "colorscale": [
             [
              0,
              "#0d0887"
             ],
             [
              0.1111111111111111,
              "#46039f"
             ],
             [
              0.2222222222222222,
              "#7201a8"
             ],
             [
              0.3333333333333333,
              "#9c179e"
             ],
             [
              0.4444444444444444,
              "#bd3786"
             ],
             [
              0.5555555555555556,
              "#d8576b"
             ],
             [
              0.6666666666666666,
              "#ed7953"
             ],
             [
              0.7777777777777778,
              "#fb9f3a"
             ],
             [
              0.8888888888888888,
              "#fdca26"
             ],
             [
              1,
              "#f0f921"
             ]
            ],
            "type": "heatmap"
           }
          ],
          "heatmapgl": [
           {
            "colorbar": {
             "outlinewidth": 0,
             "ticks": ""
            },
            "colorscale": [
             [
              0,
              "#0d0887"
             ],
             [
              0.1111111111111111,
              "#46039f"
             ],
             [
              0.2222222222222222,
              "#7201a8"
             ],
             [
              0.3333333333333333,
              "#9c179e"
             ],
             [
              0.4444444444444444,
              "#bd3786"
             ],
             [
              0.5555555555555556,
              "#d8576b"
             ],
             [
              0.6666666666666666,
              "#ed7953"
             ],
             [
              0.7777777777777778,
              "#fb9f3a"
             ],
             [
              0.8888888888888888,
              "#fdca26"
             ],
             [
              1,
              "#f0f921"
             ]
            ],
            "type": "heatmapgl"
           }
          ],
          "histogram": [
           {
            "marker": {
             "pattern": {
              "fillmode": "overlay",
              "size": 10,
              "solidity": 0.2
             }
            },
            "type": "histogram"
           }
          ],
          "histogram2d": [
           {
            "colorbar": {
             "outlinewidth": 0,
             "ticks": ""
            },
            "colorscale": [
             [
              0,
              "#0d0887"
             ],
             [
              0.1111111111111111,
              "#46039f"
             ],
             [
              0.2222222222222222,
              "#7201a8"
             ],
             [
              0.3333333333333333,
              "#9c179e"
             ],
             [
              0.4444444444444444,
              "#bd3786"
             ],
             [
              0.5555555555555556,
              "#d8576b"
             ],
             [
              0.6666666666666666,
              "#ed7953"
             ],
             [
              0.7777777777777778,
              "#fb9f3a"
             ],
             [
              0.8888888888888888,
              "#fdca26"
             ],
             [
              1,
              "#f0f921"
             ]
            ],
            "type": "histogram2d"
           }
          ],
          "histogram2dcontour": [
           {
            "colorbar": {
             "outlinewidth": 0,
             "ticks": ""
            },
            "colorscale": [
             [
              0,
              "#0d0887"
             ],
             [
              0.1111111111111111,
              "#46039f"
             ],
             [
              0.2222222222222222,
              "#7201a8"
             ],
             [
              0.3333333333333333,
              "#9c179e"
             ],
             [
              0.4444444444444444,
              "#bd3786"
             ],
             [
              0.5555555555555556,
              "#d8576b"
             ],
             [
              0.6666666666666666,
              "#ed7953"
             ],
             [
              0.7777777777777778,
              "#fb9f3a"
             ],
             [
              0.8888888888888888,
              "#fdca26"
             ],
             [
              1,
              "#f0f921"
             ]
            ],
            "type": "histogram2dcontour"
           }
          ],
          "mesh3d": [
           {
            "colorbar": {
             "outlinewidth": 0,
             "ticks": ""
            },
            "type": "mesh3d"
           }
          ],
          "parcoords": [
           {
            "line": {
             "colorbar": {
              "outlinewidth": 0,
              "ticks": ""
             }
            },
            "type": "parcoords"
           }
          ],
          "pie": [
           {
            "automargin": true,
            "type": "pie"
           }
          ],
          "scatter": [
           {
            "fillpattern": {
             "fillmode": "overlay",
             "size": 10,
             "solidity": 0.2
            },
            "type": "scatter"
           }
          ],
          "scatter3d": [
           {
            "line": {
             "colorbar": {
              "outlinewidth": 0,
              "ticks": ""
             }
            },
            "marker": {
             "colorbar": {
              "outlinewidth": 0,
              "ticks": ""
             }
            },
            "type": "scatter3d"
           }
          ],
          "scattercarpet": [
           {
            "marker": {
             "colorbar": {
              "outlinewidth": 0,
              "ticks": ""
             }
            },
            "type": "scattercarpet"
           }
          ],
          "scattergeo": [
           {
            "marker": {
             "colorbar": {
              "outlinewidth": 0,
              "ticks": ""
             }
            },
            "type": "scattergeo"
           }
          ],
          "scattergl": [
           {
            "marker": {
             "colorbar": {
              "outlinewidth": 0,
              "ticks": ""
             }
            },
            "type": "scattergl"
           }
          ],
          "scattermapbox": [
           {
            "marker": {
             "colorbar": {
              "outlinewidth": 0,
              "ticks": ""
             }
            },
            "type": "scattermapbox"
           }
          ],
          "scatterpolar": [
           {
            "marker": {
             "colorbar": {
              "outlinewidth": 0,
              "ticks": ""
             }
            },
            "type": "scatterpolar"
           }
          ],
          "scatterpolargl": [
           {
            "marker": {
             "colorbar": {
              "outlinewidth": 0,
              "ticks": ""
             }
            },
            "type": "scatterpolargl"
           }
          ],
          "scatterternary": [
           {
            "marker": {
             "colorbar": {
              "outlinewidth": 0,
              "ticks": ""
             }
            },
            "type": "scatterternary"
           }
          ],
          "surface": [
           {
            "colorbar": {
             "outlinewidth": 0,
             "ticks": ""
            },
            "colorscale": [
             [
              0,
              "#0d0887"
             ],
             [
              0.1111111111111111,
              "#46039f"
             ],
             [
              0.2222222222222222,
              "#7201a8"
             ],
             [
              0.3333333333333333,
              "#9c179e"
             ],
             [
              0.4444444444444444,
              "#bd3786"
             ],
             [
              0.5555555555555556,
              "#d8576b"
             ],
             [
              0.6666666666666666,
              "#ed7953"
             ],
             [
              0.7777777777777778,
              "#fb9f3a"
             ],
             [
              0.8888888888888888,
              "#fdca26"
             ],
             [
              1,
              "#f0f921"
             ]
            ],
            "type": "surface"
           }
          ],
          "table": [
           {
            "cells": {
             "fill": {
              "color": "#EBF0F8"
             },
             "line": {
              "color": "white"
             }
            },
            "header": {
             "fill": {
              "color": "#C8D4E3"
             },
             "line": {
              "color": "white"
             }
            },
            "type": "table"
           }
          ]
         },
         "layout": {
          "annotationdefaults": {
           "arrowcolor": "#2a3f5f",
           "arrowhead": 0,
           "arrowwidth": 1
          },
          "autotypenumbers": "strict",
          "coloraxis": {
           "colorbar": {
            "outlinewidth": 0,
            "ticks": ""
           }
          },
          "colorscale": {
           "diverging": [
            [
             0,
             "#8e0152"
            ],
            [
             0.1,
             "#c51b7d"
            ],
            [
             0.2,
             "#de77ae"
            ],
            [
             0.3,
             "#f1b6da"
            ],
            [
             0.4,
             "#fde0ef"
            ],
            [
             0.5,
             "#f7f7f7"
            ],
            [
             0.6,
             "#e6f5d0"
            ],
            [
             0.7,
             "#b8e186"
            ],
            [
             0.8,
             "#7fbc41"
            ],
            [
             0.9,
             "#4d9221"
            ],
            [
             1,
             "#276419"
            ]
           ],
           "sequential": [
            [
             0,
             "#0d0887"
            ],
            [
             0.1111111111111111,
             "#46039f"
            ],
            [
             0.2222222222222222,
             "#7201a8"
            ],
            [
             0.3333333333333333,
             "#9c179e"
            ],
            [
             0.4444444444444444,
             "#bd3786"
            ],
            [
             0.5555555555555556,
             "#d8576b"
            ],
            [
             0.6666666666666666,
             "#ed7953"
            ],
            [
             0.7777777777777778,
             "#fb9f3a"
            ],
            [
             0.8888888888888888,
             "#fdca26"
            ],
            [
             1,
             "#f0f921"
            ]
           ],
           "sequentialminus": [
            [
             0,
             "#0d0887"
            ],
            [
             0.1111111111111111,
             "#46039f"
            ],
            [
             0.2222222222222222,
             "#7201a8"
            ],
            [
             0.3333333333333333,
             "#9c179e"
            ],
            [
             0.4444444444444444,
             "#bd3786"
            ],
            [
             0.5555555555555556,
             "#d8576b"
            ],
            [
             0.6666666666666666,
             "#ed7953"
            ],
            [
             0.7777777777777778,
             "#fb9f3a"
            ],
            [
             0.8888888888888888,
             "#fdca26"
            ],
            [
             1,
             "#f0f921"
            ]
           ]
          },
          "colorway": [
           "#636efa",
           "#EF553B",
           "#00cc96",
           "#ab63fa",
           "#FFA15A",
           "#19d3f3",
           "#FF6692",
           "#B6E880",
           "#FF97FF",
           "#FECB52"
          ],
          "font": {
           "color": "#2a3f5f"
          },
          "geo": {
           "bgcolor": "white",
           "lakecolor": "white",
           "landcolor": "#E5ECF6",
           "showlakes": true,
           "showland": true,
           "subunitcolor": "white"
          },
          "hoverlabel": {
           "align": "left"
          },
          "hovermode": "closest",
          "mapbox": {
           "style": "light"
          },
          "paper_bgcolor": "white",
          "plot_bgcolor": "#E5ECF6",
          "polar": {
           "angularaxis": {
            "gridcolor": "white",
            "linecolor": "white",
            "ticks": ""
           },
           "bgcolor": "#E5ECF6",
           "radialaxis": {
            "gridcolor": "white",
            "linecolor": "white",
            "ticks": ""
           }
          },
          "scene": {
           "xaxis": {
            "backgroundcolor": "#E5ECF6",
            "gridcolor": "white",
            "gridwidth": 2,
            "linecolor": "white",
            "showbackground": true,
            "ticks": "",
            "zerolinecolor": "white"
           },
           "yaxis": {
            "backgroundcolor": "#E5ECF6",
            "gridcolor": "white",
            "gridwidth": 2,
            "linecolor": "white",
            "showbackground": true,
            "ticks": "",
            "zerolinecolor": "white"
           },
           "zaxis": {
            "backgroundcolor": "#E5ECF6",
            "gridcolor": "white",
            "gridwidth": 2,
            "linecolor": "white",
            "showbackground": true,
            "ticks": "",
            "zerolinecolor": "white"
           }
          },
          "shapedefaults": {
           "line": {
            "color": "#2a3f5f"
           }
          },
          "ternary": {
           "aaxis": {
            "gridcolor": "white",
            "linecolor": "white",
            "ticks": ""
           },
           "baxis": {
            "gridcolor": "white",
            "linecolor": "white",
            "ticks": ""
           },
           "bgcolor": "#E5ECF6",
           "caxis": {
            "gridcolor": "white",
            "linecolor": "white",
            "ticks": ""
           }
          },
          "title": {
           "x": 0.05
          },
          "xaxis": {
           "automargin": true,
           "gridcolor": "white",
           "linecolor": "white",
           "ticks": "",
           "title": {
            "standoff": 15
           },
           "zerolinecolor": "white",
           "zerolinewidth": 2
          },
          "yaxis": {
           "automargin": true,
           "gridcolor": "white",
           "linecolor": "white",
           "ticks": "",
           "title": {
            "standoff": 15
           },
           "zerolinecolor": "white",
           "zerolinewidth": 2
          }
         }
        },
        "width": 400,
        "xaxis": {
         "anchor": "y",
         "autorange": true,
         "domain": [
          0,
          1
         ],
         "range": [
          -0.5,
          2.5
         ],
         "title": {
          "text": "model"
         },
         "type": "category"
        },
        "yaxis": {
         "anchor": "x",
         "domain": [
          0,
          1
         ],
         "range": [
          0,
          1.1
         ],
         "title": {
          "text": "accuracy"
         },
         "type": "linear",
         "visible": true
        }
       }
      },
      "text/html": [
       "<div>                            <div id=\"30ab8ec5-4fae-4494-ab36-5c1ab28d4046\" class=\"plotly-graph-div\" style=\"height:400px; width:400px;\"></div>            <script type=\"text/javascript\">                require([\"plotly\"], function(Plotly) {                    window.PLOTLYENV=window.PLOTLYENV || {};                                    if (document.getElementById(\"30ab8ec5-4fae-4494-ab36-5c1ab28d4046\")) {                    Plotly.newPlot(                        \"30ab8ec5-4fae-4494-ab36-5c1ab28d4046\",                        [{\"alignmentgroup\":\"True\",\"boxpoints\":\"all\",\"fillcolor\":\"rgba(255,255,255,0)\",\"hoveron\":\"points\",\"hovertemplate\":\"model=%{x}<br>accuracy=%{y}<extra></extra>\",\"legendgroup\":\"\",\"line\":{\"color\":\"rgba(255,255,255,0)\"},\"marker\":{\"color\":\"#636efa\"},\"name\":\"\",\"offsetgroup\":\"\",\"orientation\":\"v\",\"pointpos\":0,\"showlegend\":false,\"x\":[\"pca2-centroid\",\"pca2-centroid\",\"pca2-centroid\",\"pca2-centroid\",\"pca2-centroid\",\"pca2-centroid\",\"pca2-centroid\",\"pca2-centroid\",\"pca2-centroid\",\"pca2-centroid\",\"pca2-knn\",\"pca2-knn\",\"pca2-knn\",\"pca2-knn\",\"pca2-knn\",\"pca2-knn\",\"pca2-knn\",\"pca2-knn\",\"pca2-knn\",\"pca2-knn\",\"rgb-randomforest\",\"rgb-randomforest\",\"rgb-randomforest\",\"rgb-randomforest\",\"rgb-randomforest\",\"rgb-randomforest\",\"rgb-randomforest\",\"rgb-randomforest\",\"rgb-randomforest\",\"rgb-randomforest\"],\"x0\":\" \",\"xaxis\":\"x\",\"y\":[0.8987341772151899,1.0,0.8987341772151899,1.0,1.0,1.0,1.0,1.0,0.8987341772151899,0.8987341772151899,0.8987341772151899,0.8867924528301887,0.8987341772151899,0.9493670886075949,0.8867924528301887,0.8867924528301887,0.8867924528301887,0.8867924528301887,0.8987341772151899,0.8987341772151899,0.8987341772151899,0.8867924528301887,1.0,1.0,0.8867924528301887,0.8301886792452831,0.9811320754716981,0.8301886792452831,1.0,1.0],\"y0\":\" \",\"yaxis\":\"y\",\"type\":\"box\"}],                        {\"template\":{\"data\":{\"histogram2dcontour\":[{\"type\":\"histogram2dcontour\",\"colorbar\":{\"outlinewidth\":0,\"ticks\":\"\"},\"colorscale\":[[0.0,\"#0d0887\"],[0.1111111111111111,\"#46039f\"],[0.2222222222222222,\"#7201a8\"],[0.3333333333333333,\"#9c179e\"],[0.4444444444444444,\"#bd3786\"],[0.5555555555555556,\"#d8576b\"],[0.6666666666666666,\"#ed7953\"],[0.7777777777777778,\"#fb9f3a\"],[0.8888888888888888,\"#fdca26\"],[1.0,\"#f0f921\"]]}],\"choropleth\":[{\"type\":\"choropleth\",\"colorbar\":{\"outlinewidth\":0,\"ticks\":\"\"}}],\"histogram2d\":[{\"type\":\"histogram2d\",\"colorbar\":{\"outlinewidth\":0,\"ticks\":\"\"},\"colorscale\":[[0.0,\"#0d0887\"],[0.1111111111111111,\"#46039f\"],[0.2222222222222222,\"#7201a8\"],[0.3333333333333333,\"#9c179e\"],[0.4444444444444444,\"#bd3786\"],[0.5555555555555556,\"#d8576b\"],[0.6666666666666666,\"#ed7953\"],[0.7777777777777778,\"#fb9f3a\"],[0.8888888888888888,\"#fdca26\"],[1.0,\"#f0f921\"]]}],\"heatmap\":[{\"type\":\"heatmap\",\"colorbar\":{\"outlinewidth\":0,\"ticks\":\"\"},\"colorscale\":[[0.0,\"#0d0887\"],[0.1111111111111111,\"#46039f\"],[0.2222222222222222,\"#7201a8\"],[0.3333333333333333,\"#9c179e\"],[0.4444444444444444,\"#bd3786\"],[0.5555555555555556,\"#d8576b\"],[0.6666666666666666,\"#ed7953\"],[0.7777777777777778,\"#fb9f3a\"],[0.8888888888888888,\"#fdca26\"],[1.0,\"#f0f921\"]]}],\"heatmapgl\":[{\"type\":\"heatmapgl\",\"colorbar\":{\"outlinewidth\":0,\"ticks\":\"\"},\"colorscale\":[[0.0,\"#0d0887\"],[0.1111111111111111,\"#46039f\"],[0.2222222222222222,\"#7201a8\"],[0.3333333333333333,\"#9c179e\"],[0.4444444444444444,\"#bd3786\"],[0.5555555555555556,\"#d8576b\"],[0.6666666666666666,\"#ed7953\"],[0.7777777777777778,\"#fb9f3a\"],[0.8888888888888888,\"#fdca26\"],[1.0,\"#f0f921\"]]}],\"contourcarpet\":[{\"type\":\"contourcarpet\",\"colorbar\":{\"outlinewidth\":0,\"ticks\":\"\"}}],\"contour\":[{\"type\":\"contour\",\"colorbar\":{\"outlinewidth\":0,\"ticks\":\"\"},\"colorscale\":[[0.0,\"#0d0887\"],[0.1111111111111111,\"#46039f\"],[0.2222222222222222,\"#7201a8\"],[0.3333333333333333,\"#9c179e\"],[0.4444444444444444,\"#bd3786\"],[0.5555555555555556,\"#d8576b\"],[0.6666666666666666,\"#ed7953\"],[0.7777777777777778,\"#fb9f3a\"],[0.8888888888888888,\"#fdca26\"],[1.0,\"#f0f921\"]]}],\"surface\":[{\"type\":\"surface\",\"colorbar\":{\"outlinewidth\":0,\"ticks\":\"\"},\"colorscale\":[[0.0,\"#0d0887\"],[0.1111111111111111,\"#46039f\"],[0.2222222222222222,\"#7201a8\"],[0.3333333333333333,\"#9c179e\"],[0.4444444444444444,\"#bd3786\"],[0.5555555555555556,\"#d8576b\"],[0.6666666666666666,\"#ed7953\"],[0.7777777777777778,\"#fb9f3a\"],[0.8888888888888888,\"#fdca26\"],[1.0,\"#f0f921\"]]}],\"mesh3d\":[{\"type\":\"mesh3d\",\"colorbar\":{\"outlinewidth\":0,\"ticks\":\"\"}}],\"scatter\":[{\"fillpattern\":{\"fillmode\":\"overlay\",\"size\":10,\"solidity\":0.2},\"type\":\"scatter\"}],\"parcoords\":[{\"type\":\"parcoords\",\"line\":{\"colorbar\":{\"outlinewidth\":0,\"ticks\":\"\"}}}],\"scatterpolargl\":[{\"type\":\"scatterpolargl\",\"marker\":{\"colorbar\":{\"outlinewidth\":0,\"ticks\":\"\"}}}],\"bar\":[{\"error_x\":{\"color\":\"#2a3f5f\"},\"error_y\":{\"color\":\"#2a3f5f\"},\"marker\":{\"line\":{\"color\":\"#E5ECF6\",\"width\":0.5},\"pattern\":{\"fillmode\":\"overlay\",\"size\":10,\"solidity\":0.2}},\"type\":\"bar\"}],\"scattergeo\":[{\"type\":\"scattergeo\",\"marker\":{\"colorbar\":{\"outlinewidth\":0,\"ticks\":\"\"}}}],\"scatterpolar\":[{\"type\":\"scatterpolar\",\"marker\":{\"colorbar\":{\"outlinewidth\":0,\"ticks\":\"\"}}}],\"histogram\":[{\"marker\":{\"pattern\":{\"fillmode\":\"overlay\",\"size\":10,\"solidity\":0.2}},\"type\":\"histogram\"}],\"scattergl\":[{\"type\":\"scattergl\",\"marker\":{\"colorbar\":{\"outlinewidth\":0,\"ticks\":\"\"}}}],\"scatter3d\":[{\"type\":\"scatter3d\",\"line\":{\"colorbar\":{\"outlinewidth\":0,\"ticks\":\"\"}},\"marker\":{\"colorbar\":{\"outlinewidth\":0,\"ticks\":\"\"}}}],\"scattermapbox\":[{\"type\":\"scattermapbox\",\"marker\":{\"colorbar\":{\"outlinewidth\":0,\"ticks\":\"\"}}}],\"scatterternary\":[{\"type\":\"scatterternary\",\"marker\":{\"colorbar\":{\"outlinewidth\":0,\"ticks\":\"\"}}}],\"scattercarpet\":[{\"type\":\"scattercarpet\",\"marker\":{\"colorbar\":{\"outlinewidth\":0,\"ticks\":\"\"}}}],\"carpet\":[{\"aaxis\":{\"endlinecolor\":\"#2a3f5f\",\"gridcolor\":\"white\",\"linecolor\":\"white\",\"minorgridcolor\":\"white\",\"startlinecolor\":\"#2a3f5f\"},\"baxis\":{\"endlinecolor\":\"#2a3f5f\",\"gridcolor\":\"white\",\"linecolor\":\"white\",\"minorgridcolor\":\"white\",\"startlinecolor\":\"#2a3f5f\"},\"type\":\"carpet\"}],\"table\":[{\"cells\":{\"fill\":{\"color\":\"#EBF0F8\"},\"line\":{\"color\":\"white\"}},\"header\":{\"fill\":{\"color\":\"#C8D4E3\"},\"line\":{\"color\":\"white\"}},\"type\":\"table\"}],\"barpolar\":[{\"marker\":{\"line\":{\"color\":\"#E5ECF6\",\"width\":0.5},\"pattern\":{\"fillmode\":\"overlay\",\"size\":10,\"solidity\":0.2}},\"type\":\"barpolar\"}],\"pie\":[{\"automargin\":true,\"type\":\"pie\"}]},\"layout\":{\"autotypenumbers\":\"strict\",\"colorway\":[\"#636efa\",\"#EF553B\",\"#00cc96\",\"#ab63fa\",\"#FFA15A\",\"#19d3f3\",\"#FF6692\",\"#B6E880\",\"#FF97FF\",\"#FECB52\"],\"font\":{\"color\":\"#2a3f5f\"},\"hovermode\":\"closest\",\"hoverlabel\":{\"align\":\"left\"},\"paper_bgcolor\":\"white\",\"plot_bgcolor\":\"#E5ECF6\",\"polar\":{\"bgcolor\":\"#E5ECF6\",\"angularaxis\":{\"gridcolor\":\"white\",\"linecolor\":\"white\",\"ticks\":\"\"},\"radialaxis\":{\"gridcolor\":\"white\",\"linecolor\":\"white\",\"ticks\":\"\"}},\"ternary\":{\"bgcolor\":\"#E5ECF6\",\"aaxis\":{\"gridcolor\":\"white\",\"linecolor\":\"white\",\"ticks\":\"\"},\"baxis\":{\"gridcolor\":\"white\",\"linecolor\":\"white\",\"ticks\":\"\"},\"caxis\":{\"gridcolor\":\"white\",\"linecolor\":\"white\",\"ticks\":\"\"}},\"coloraxis\":{\"colorbar\":{\"outlinewidth\":0,\"ticks\":\"\"}},\"colorscale\":{\"sequential\":[[0.0,\"#0d0887\"],[0.1111111111111111,\"#46039f\"],[0.2222222222222222,\"#7201a8\"],[0.3333333333333333,\"#9c179e\"],[0.4444444444444444,\"#bd3786\"],[0.5555555555555556,\"#d8576b\"],[0.6666666666666666,\"#ed7953\"],[0.7777777777777778,\"#fb9f3a\"],[0.8888888888888888,\"#fdca26\"],[1.0,\"#f0f921\"]],\"sequentialminus\":[[0.0,\"#0d0887\"],[0.1111111111111111,\"#46039f\"],[0.2222222222222222,\"#7201a8\"],[0.3333333333333333,\"#9c179e\"],[0.4444444444444444,\"#bd3786\"],[0.5555555555555556,\"#d8576b\"],[0.6666666666666666,\"#ed7953\"],[0.7777777777777778,\"#fb9f3a\"],[0.8888888888888888,\"#fdca26\"],[1.0,\"#f0f921\"]],\"diverging\":[[0,\"#8e0152\"],[0.1,\"#c51b7d\"],[0.2,\"#de77ae\"],[0.3,\"#f1b6da\"],[0.4,\"#fde0ef\"],[0.5,\"#f7f7f7\"],[0.6,\"#e6f5d0\"],[0.7,\"#b8e186\"],[0.8,\"#7fbc41\"],[0.9,\"#4d9221\"],[1,\"#276419\"]]},\"xaxis\":{\"gridcolor\":\"white\",\"linecolor\":\"white\",\"ticks\":\"\",\"title\":{\"standoff\":15},\"zerolinecolor\":\"white\",\"automargin\":true,\"zerolinewidth\":2},\"yaxis\":{\"gridcolor\":\"white\",\"linecolor\":\"white\",\"ticks\":\"\",\"title\":{\"standoff\":15},\"zerolinecolor\":\"white\",\"automargin\":true,\"zerolinewidth\":2},\"scene\":{\"xaxis\":{\"backgroundcolor\":\"#E5ECF6\",\"gridcolor\":\"white\",\"linecolor\":\"white\",\"showbackground\":true,\"ticks\":\"\",\"zerolinecolor\":\"white\",\"gridwidth\":2},\"yaxis\":{\"backgroundcolor\":\"#E5ECF6\",\"gridcolor\":\"white\",\"linecolor\":\"white\",\"showbackground\":true,\"ticks\":\"\",\"zerolinecolor\":\"white\",\"gridwidth\":2},\"zaxis\":{\"backgroundcolor\":\"#E5ECF6\",\"gridcolor\":\"white\",\"linecolor\":\"white\",\"showbackground\":true,\"ticks\":\"\",\"zerolinecolor\":\"white\",\"gridwidth\":2}},\"shapedefaults\":{\"line\":{\"color\":\"#2a3f5f\"}},\"annotationdefaults\":{\"arrowcolor\":\"#2a3f5f\",\"arrowhead\":0,\"arrowwidth\":1},\"geo\":{\"bgcolor\":\"white\",\"landcolor\":\"#E5ECF6\",\"subunitcolor\":\"white\",\"showland\":true,\"showlakes\":true,\"lakecolor\":\"white\"},\"title\":{\"x\":0.05},\"mapbox\":{\"style\":\"light\"}}},\"xaxis\":{\"anchor\":\"y\",\"domain\":[0.0,1.0],\"title\":{\"text\":\"model\"}},\"yaxis\":{\"anchor\":\"x\",\"domain\":[0.0,1.0],\"title\":{\"text\":\"accuracy\"},\"visible\":true,\"range\":[0.0,1.1]},\"legend\":{\"tracegroupgap\":0},\"margin\":{\"t\":60},\"boxmode\":\"group\",\"height\":400,\"width\":400},                        {\"responsive\": true}                    ).then(function(){\n",
       "                            \n",
       "var gd = document.getElementById('30ab8ec5-4fae-4494-ab36-5c1ab28d4046');\n",
       "var x = new MutationObserver(function (mutations, observer) {{\n",
       "        var display = window.getComputedStyle(gd).display;\n",
       "        if (!display || display === 'none') {{\n",
       "            console.log([gd, 'removed!']);\n",
       "            Plotly.purge(gd);\n",
       "            observer.disconnect();\n",
       "        }}\n",
       "}});\n",
       "\n",
       "// Listen for the removal of the full notebook cells\n",
       "var notebookContainer = gd.closest('#notebook-container');\n",
       "if (notebookContainer) {{\n",
       "    x.observe(notebookContainer, {childList: true});\n",
       "}}\n",
       "\n",
       "// Listen for the clearing of the current output cell\n",
       "var outputEl = gd.closest('.output');\n",
       "if (outputEl) {{\n",
       "    x.observe(outputEl, {childList: true});\n",
       "}}\n",
       "\n",
       "                        })                };                });            </script>        </div>"
      ]
     },
     "metadata": {},
     "output_type": "display_data"
    }
   ],
   "source": [
    "\n",
    "def evaluate_model(data, est,\n",
    "                   features = ['r', 'g', 'b'],\n",
    "                   group='filename',\n",
    "                   scorer='accuracy',\n",
    "                   random_state=3,\n",
    "                   folds=10,\n",
    "                   label = 'label',\n",
    "                   val_size=0.2):\n",
    "\n",
    "    \n",
    "    \n",
    "    X = data[features]\n",
    "    Y = data[label]\n",
    "    groups = data[group]\n",
    "\n",
    "    splitter = sklearn.model_selection.GroupShuffleSplit(n_splits=folds, test_size=val_size, random_state=random_state)\n",
    "    scores = cross_val_score(est, X=X, y=Y, scoring=scorer, error_score='raise', cv=splitter, groups=groups)\n",
    "\n",
    "    res = pandas.DataFrame({\n",
    "        scorer: scores,\n",
    "        'fold': numpy.arange(len(scores)),\n",
    "    })\n",
    "    \n",
    "    return res\n",
    "\n",
    "def evaluate_models(data, models):\n",
    "\n",
    "    dfs = []\n",
    "    for name, estimator in models.items():\n",
    "        \n",
    "        res = evaluate_model(data, estimator)\n",
    "        res['model'] = name\n",
    "        \n",
    "        dfs.append(res)\n",
    "\n",
    "    df = pandas.concat(dfs, ignore_index=True)\n",
    "    return df\n",
    "\n",
    "from sklearn.neighbors import KNeighborsClassifier, NearestCentroid\n",
    "\n",
    "import sklearn.pipeline\n",
    "from sklearn.decomposition import PCA\n",
    "from sklearn.model_selection import cross_val_score\n",
    "from sklearn.ensemble import RandomForestClassifier\n",
    "from sklearn.preprocessing import StandardScaler\n",
    "\n",
    "MODELS = {\n",
    "    'pca2-centroid': sklearn.pipeline.make_pipeline(\n",
    "        PCA(2),\n",
    "        NearestCentroid(),\n",
    "    ),\n",
    "\n",
    "    'pca2-knn': sklearn.pipeline.make_pipeline(\n",
    "        PCA(2),\n",
    "        KNeighborsClassifier(n_neighbors=5),\n",
    "    ),\n",
    "    \n",
    "    'rgb-randomforest': sklearn.pipeline.make_pipeline(\n",
    "        RandomForestClassifier(n_estimators=10, min_samples_leaf=0.01, max_depth=5)\n",
    "    ),\n",
    "}\n",
    "\n",
    "train_data = data[data.split == 'train']\n",
    "results = evaluate_models(train_data, MODELS)\n",
    "\n",
    "def plot_results(results):\n",
    "\n",
    "    import plotly.express\n",
    "\n",
    "    fig = plotly.express.strip(results, y='accuracy', x='model', height=400, width=400)\n",
    "\n",
    "    fig.update_yaxes(visible=True, range=(0.0, 1.1))\n",
    "    \n",
    "    return fig\n",
    "\n",
    "plot_results(results)\n"
   ]
  },
  {
   "cell_type": "code",
   "execution_count": 226,
   "id": "a054b87f-9f19-4642-a8f1-ae3b2bca0c7e",
   "metadata": {
    "tags": []
   },
   "outputs": [
    {
     "data": {
      "text/plain": [
       "{'Black': 'Black',\n",
       " 'White': 'Beige',\n",
       " 'Grey': 'Grey',\n",
       " 'Pink': 'Pink',\n",
       " 'Yellow': 'Yellow',\n",
       " 'Red': 'Red',\n",
       " 'PaleGreen': 'PaleGreen',\n",
       " 'Purple': 'Purple',\n",
       " 'Blue': 'Blue',\n",
       " 'DarkBlue': 'DarkBlue',\n",
       " 'ambient': 'Sienna'}"
      ]
     },
     "execution_count": 226,
     "metadata": {},
     "output_type": "execute_result"
    }
   ],
   "source": [
    "# FIXME: load from dataset\n",
    "card_data_order = [\n",
    "    'Black',\n",
    "    'White',\n",
    "    'Grey', # cardboard\n",
    "    'Pink',\n",
    "    'Yellow',\n",
    "    'Red',\n",
    "    'PaleGreen',\n",
    "    'Purple',\n",
    "    'Blue',\n",
    "    'DarkBlue',\n",
    "]\n",
    "def make_label_mapping(section_labels):\n",
    "\n",
    "    label_mapping = {\n",
    "        #numpy.nan: 'ambient'\n",
    "    }\n",
    "    for idx, label in enumerate(section_labels):\n",
    "        label_mapping[idx] = label\n",
    "    return label_mapping\n",
    "\n",
    "label_mapping = make_label_mapping(card_data_order)\n",
    "label_mapping\n",
    "\n",
    "cards_color_map = dict(zip(label_mapping.values(), label_mapping.values()))\n",
    "cards_color_map.update({\n",
    "    'ambient': 'Sienna',\n",
    "    'White': 'Beige', \n",
    "})\n",
    "cards_color_map"
   ]
  },
  {
   "cell_type": "code",
   "execution_count": 227,
   "id": "64d75466-8797-42f7-8c01-d3f0007c6ce2",
   "metadata": {
    "tags": []
   },
   "outputs": [
    {
     "data": {
      "text/plain": [
       "<AxesSubplot: xlabel='pca.1', ylabel='pca.2'>"
      ]
     },
     "execution_count": 227,
     "metadata": {},
     "output_type": "execute_result"
    },
    {
     "data": {
      "image/png": "[encoded data removed]",
      "text/plain": [
       "<Figure size 640x480 with 2 Axes>"
      ]
     },
     "metadata": {},
     "output_type": "display_data"
    }
   ],
   "source": [
    "\n",
    "# Plot decision boundaries, in PCA 2d space\n",
    "\n",
    "def pca_transform_2d(data, columns = ['r', 'g', 'b']):\n",
    "    from sklearn.decomposition import PCA\n",
    "  \n",
    "    pca = PCA(2)\n",
    "    data = data.dropna(subset=columns)\n",
    "    \n",
    "    X = data[columns]\n",
    "    dd = pca.fit_transform(X)\n",
    "    df = pandas.DataFrame(dd, columns=['pca.1', 'pca.2'], index=data.index)\n",
    "    return df, pca\n",
    "\n",
    "def plot_decision_surface(estimator, data,\n",
    "                          x_steps=50, y_steps=50,\n",
    "                         response_method=\"predict\"):\n",
    "\n",
    "    from sklearn.inspection import DecisionBoundaryDisplay\n",
    "    from sklearn.preprocessing import LabelEncoder\n",
    "    \n",
    "    # Transform to 2d using PCA\n",
    "    pca_data, pca = pca_transform_2d(data)\n",
    "    pca1, pca2 = pca_data['pca.1'], pca_data['pca.2']\n",
    "    \n",
    "    feature_1, feature_2 = numpy.meshgrid(\n",
    "        numpy.linspace(pca1.min() * 1.1, pca1.max() * 1.1, num=x_steps),\n",
    "        numpy.linspace(pca2.min() * 1.1, pca2.max() * 1.1, num=y_steps)\n",
    "    )\n",
    "    pca_grid = numpy.vstack([feature_1.ravel(), feature_2.ravel()]).T\n",
    "\n",
    "    # Make predictions in RGB space,\n",
    "    rgb_grid = pandas.DataFrame(pca.inverse_transform(pca_grid), columns=['r', 'g', 'b'])\n",
    "    \n",
    "    if response_method == 'decision_function':\n",
    "        y_pred = estimator.decision_function(rgb_grid)\n",
    "    elif response_method == 'score_samples':\n",
    "        y_pred = estimator.score_samples(rgb_grid)\n",
    "    elif response_method == 'negative_outlier_factor_':\n",
    "        y_pred = estimator.negative_outlier_factor_\n",
    "    elif response_method == 'predict':\n",
    "        # DecisionBoundaryDisplay breaks with string labels, convert to numerical\n",
    "        le = LabelEncoder()\n",
    "        y_pred = le.fit_transform(estimator.predict(rgb_grid))\n",
    "    else:\n",
    "        raise ValueError()\n",
    "    y_pred = numpy.reshape(y_pred, feature_1.shape)\n",
    "\n",
    "    #print(y_pred)\n",
    "    \n",
    "    display = DecisionBoundaryDisplay(\n",
    "        xx0=feature_1,\n",
    "        xx1=feature_2,\n",
    "        response=y_pred\n",
    "    )\n",
    "    display.plot()\n",
    "\n",
    "    ax = display.ax_\n",
    "    # Show datapoints\n",
    "    seaborn.scatterplot(ax=ax,\n",
    "        x=pca1,\n",
    "        y=pca2,\n",
    "        hue=data['label'].values.astype(str),\n",
    "        edgecolor=\"black\",\n",
    "        palette=cards_color_map,\n",
    "    )\n",
    "    ax.legend(bbox_to_anchor=(1.5, 1.00))\n",
    "    \n",
    "    plt.colorbar(ax.collections[1])\n",
    "    \n",
    "    return ax\n",
    "\n",
    "plot_decision_surface(est, cleaned)"
   ]
  },
  {
   "cell_type": "code",
   "execution_count": 228,
   "id": "677c39f5-432c-4387-a263-aad750bd1592",
   "metadata": {},
   "outputs": [],
   "source": [
    "# TODO: use emlearn to convert, write C code output"
   ]
  },
  {
   "cell_type": "code",
   "execution_count": 229,
   "id": "7fdd46bf-4ae6-4b84-a915-f6dbdf936c4a",
   "metadata": {
    "tags": []
   },
   "outputs": [
    {
     "data": {
      "text/plain": [
       "<AxesSubplot: xlabel='pca.1', ylabel='pca.2'>"
      ]
     },
     "execution_count": 229,
     "metadata": {},
     "output_type": "execute_result"
    },
    {
     "data": {
      "image/png": "[encoded data removed]",
      "text/plain": [
       "<Figure size 640x480 with 2 Axes>"
      ]
     },
     "metadata": {},
     "output_type": "display_data"
    }
   ],
   "source": [
    "from sklearn.neighbors import LocalOutlierFactor\n",
    "from sklearn.decomposition import PCA\n",
    "import sklearn.pipeline  \n",
    "\n",
    "detector = sklearn.pipeline.make_pipeline(\n",
    "        PCA(2),\n",
    "        LocalOutlierFactor(n_neighbors=25, novelty=True),\n",
    ")\n",
    "    \n",
    "#detector = LocalOutlierFactor(n_neighbors=2, novelty=True)\n",
    "#detector.fit(cleaned[cleaned.label == 'Pink'][features])\n",
    "detector.fit(cleaned[features])\n",
    "plot_decision_surface(detector, cleaned, response_method=\"score_samples\")"
   ]
  },
  {
   "cell_type": "code",
   "execution_count": 230,
   "id": "8590c8a1-69a9-4521-9dc4-6945f8a31b48",
   "metadata": {},
   "outputs": [
    {
     "data": {
      "text/plain": [
       "<AxesSubplot: xlabel='pca.1', ylabel='pca.2'>"
      ]
     },
     "execution_count": 230,
     "metadata": {},
     "output_type": "execute_result"
    },
    {
     "data": {
      "image/png": "[encoded data removed]",
      "text/plain": [
       "<Figure size 640x480 with 2 Axes>"
      ]
     },
     "metadata": {},
     "output_type": "display_data"
    }
   ],
   "source": [
    "from sklearn.ensemble import IsolationForest\n",
    "\n",
    "detector = sklearn.pipeline.make_pipeline(\n",
    "        PCA(2),\n",
    "        IsolationForest(n_estimators=100, contamination=0.1),\n",
    ")\n",
    "\n",
    "#detector = IsolationForest(n_estimators=100, contamination=0.001)\n",
    "detector.fit(cleaned[cleaned.label == 'Red'][features])\n",
    "\n",
    "plot_decision_surface(detector, cleaned, response_method=\"score_samples\")"
   ]
  },
  {
   "cell_type": "code",
   "execution_count": null,
   "id": "7a2751f8-fa59-4c0c-a60f-572aa3f740ff",
   "metadata": {},
   "outputs": [],
   "source": []
  },
  {
   "cell_type": "code",
   "execution_count": null,
   "id": "362da160-0cdd-463a-bbd3-5dce08045884",
   "metadata": {},
   "outputs": [],
   "source": []
  }
 ],
 "metadata": {
  "kernelspec": {
   "display_name": "Python 3 (ipykernel)",
   "language": "python",
   "name": "python3"
  },
  "language_info": {
   "codemirror_mode": {
    "name": "ipython",
    "version": 3
   },
   "file_extension": ".py",
   "mimetype": "text/x-python",
   "name": "python",
   "nbconvert_exporter": "python",
   "pygments_lexer": "ipython3",
   "version": "3.11.3"
  }
 },
 "nbformat": 4,
 "nbformat_minor": 5
}
