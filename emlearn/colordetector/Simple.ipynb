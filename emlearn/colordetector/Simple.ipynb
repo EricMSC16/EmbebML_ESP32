{
 "cells": [
  {
   "cell_type": "code",
   "execution_count": 19,
   "id": "2a83b9e1-7009-4266-bc40-25b9b87bda6a",
   "metadata": {
    "tags": []
   },
   "outputs": [],
   "source": [
    "import pandas\n",
    "import numpy\n",
    "\n",
    "import seaborn\n",
    "from matplotlib import pyplot as plt"
   ]
  },
  {
   "cell_type": "code",
   "execution_count": 24,
   "id": "cc3bf5e9-a692-417b-bd6b-df64f58b02c5",
   "metadata": {
    "tags": []
   },
   "outputs": [
    {
     "data": {
      "text/html": [
       "<div>\n",
       "<style scoped>\n",
       "    .dataframe tbody tr th:only-of-type {\n",
       "        vertical-align: middle;\n",
       "    }\n",
       "\n",
       "    .dataframe tbody tr th {\n",
       "        vertical-align: top;\n",
       "    }\n",
       "\n",
       "    .dataframe thead th {\n",
       "        text-align: right;\n",
       "    }\n",
       "</style>\n",
       "<table border=\"1\" class=\"dataframe\">\n",
       "  <thead>\n",
       "    <tr style=\"text-align: right;\">\n",
       "      <th></th>\n",
       "      <th>filename</th>\n",
       "      <th>tick</th>\n",
       "      <th>r</th>\n",
       "      <th>g</th>\n",
       "      <th>b</th>\n",
       "      <th>button</th>\n",
       "      <th>section</th>\n",
       "      <th>label</th>\n",
       "    </tr>\n",
       "  </thead>\n",
       "  <tbody>\n",
       "    <tr>\n",
       "      <th>0</th>\n",
       "      <td>cards-2hz-100ms-2.csv</td>\n",
       "      <td>36000</td>\n",
       "      <td>84.0</td>\n",
       "      <td>37.0</td>\n",
       "      <td>193.0</td>\n",
       "      <td>0.0</td>\n",
       "      <td>NaN</td>\n",
       "      <td>ambient</td>\n",
       "    </tr>\n",
       "    <tr>\n",
       "      <th>1</th>\n",
       "      <td>cards-2hz-100ms-2.csv</td>\n",
       "      <td>36500</td>\n",
       "      <td>83.0</td>\n",
       "      <td>36.0</td>\n",
       "      <td>192.0</td>\n",
       "      <td>0.0</td>\n",
       "      <td>NaN</td>\n",
       "      <td>ambient</td>\n",
       "    </tr>\n",
       "    <tr>\n",
       "      <th>2</th>\n",
       "      <td>cards-2hz-100ms-2.csv</td>\n",
       "      <td>37000</td>\n",
       "      <td>84.0</td>\n",
       "      <td>36.0</td>\n",
       "      <td>193.0</td>\n",
       "      <td>0.0</td>\n",
       "      <td>NaN</td>\n",
       "      <td>ambient</td>\n",
       "    </tr>\n",
       "    <tr>\n",
       "      <th>3</th>\n",
       "      <td>cards-2hz-100ms-2.csv</td>\n",
       "      <td>37500</td>\n",
       "      <td>83.0</td>\n",
       "      <td>35.0</td>\n",
       "      <td>191.0</td>\n",
       "      <td>0.0</td>\n",
       "      <td>NaN</td>\n",
       "      <td>ambient</td>\n",
       "    </tr>\n",
       "    <tr>\n",
       "      <th>4</th>\n",
       "      <td>cards-2hz-100ms-2.csv</td>\n",
       "      <td>38000</td>\n",
       "      <td>84.0</td>\n",
       "      <td>36.0</td>\n",
       "      <td>192.0</td>\n",
       "      <td>0.0</td>\n",
       "      <td>NaN</td>\n",
       "      <td>ambient</td>\n",
       "    </tr>\n",
       "  </tbody>\n",
       "</table>\n",
       "</div>"
      ],
      "text/plain": [
       "                filename   tick     r     g      b  button  section    label\n",
       "0  cards-2hz-100ms-2.csv  36000  84.0  37.0  193.0     0.0      NaN  ambient\n",
       "1  cards-2hz-100ms-2.csv  36500  83.0  36.0  192.0     0.0      NaN  ambient\n",
       "2  cards-2hz-100ms-2.csv  37000  84.0  36.0  193.0     0.0      NaN  ambient\n",
       "3  cards-2hz-100ms-2.csv  37500  83.0  35.0  191.0     0.0      NaN  ambient\n",
       "4  cards-2hz-100ms-2.csv  38000  84.0  36.0  192.0     0.0      NaN  ambient"
      ]
     },
     "execution_count": 24,
     "metadata": {},
     "output_type": "execute_result"
    }
   ],
   "source": [
    "\n",
    "def load_dataset(path):\n",
    "    df = pandas.read_csv(path)\n",
    "    return df\n",
    "   \n",
    "path = './dataset/cards-cleaned-1.csv'\n",
    "data = load_dataset(path)\n",
    "data.head()"
   ]
  },
  {
   "cell_type": "code",
   "execution_count": 28,
   "id": "0672ebe5-c5e9-4e32-99c9-fb0fb7322137",
   "metadata": {
    "tags": []
   },
   "outputs": [
    {
     "data": {
      "text/plain": [
       "ambient      187\n",
       "Purple        30\n",
       "Black         29\n",
       "Pink          29\n",
       "Blue          29\n",
       "Grey          28\n",
       "Red           28\n",
       "DarkBlue      28\n",
       "PaleGreen     27\n",
       "White         26\n",
       "Yellow        25\n",
       "Name: label, dtype: int64"
      ]
     },
     "execution_count": 28,
     "metadata": {},
     "output_type": "execute_result"
    }
   ],
   "source": [
    "data.label.value_counts()"
   ]
  },
  {
   "cell_type": "code",
   "execution_count": 32,
   "id": "25836e24-cd9f-4dbd-9cd0-7e5fc36b5cac",
   "metadata": {},
   "outputs": [
    {
     "name": "stdout",
     "output_type": "stream",
     "text": [
      "(187, 8)\n"
     ]
    },
    {
     "data": {
      "text/plain": [
       "Purple       30\n",
       "Black        29\n",
       "Pink         29\n",
       "Blue         29\n",
       "Grey         28\n",
       "Red          28\n",
       "DarkBlue     28\n",
       "PaleGreen    27\n",
       "White        26\n",
       "Yellow       25\n",
       "Name: label, dtype: int64"
      ]
     },
     "execution_count": 32,
     "metadata": {},
     "output_type": "execute_result"
    }
   ],
   "source": [
    "\n",
    "def undersample_class(data, label='ambient', random_state=1, target = 30):\n",
    "    \n",
    "    data = data.copy() # avoid mutating input\n",
    "    is_target = data['label'] == label\n",
    "    print(data[is_target].shape)\n",
    "    sampled = data[is_target].sample(n=target, random_state=random_state)\n",
    "    out = pandas.concat([ data[~is_target], sampled ])\n",
    "    return out\n",
    "\n",
    "cleaned = undersample_class(data)\n",
    "cleaned = cleaned.dropna(subset=['label', 'section'])\n",
    "cleaned.label.value_counts()"
   ]
  },
  {
   "cell_type": "code",
   "execution_count": 62,
   "id": "a8c00b60-0d24-40c2-9db8-50f7e95f2b4a",
   "metadata": {},
   "outputs": [
    {
     "name": "stdout",
     "output_type": "stream",
     "text": [
      "(224, 8)\n"
     ]
    },
    {
     "data": {
      "text/plain": [
       "Purple    30\n",
       "Other     30\n",
       "Yellow    25\n",
       "Name: label, dtype: int64"
      ]
     },
     "execution_count": 62,
     "metadata": {},
     "output_type": "execute_result"
    }
   ],
   "source": [
    "cleaned['label'] = cleaned.label.replace({\n",
    "    'Purple': 'Purple',\n",
    "    'Black': 'Other',\n",
    "    'Pink': 'Other',\n",
    "    'Blue': 'Other',\n",
    "    'Grey': 'Other',\n",
    "    'Red': 'Other',\n",
    "    'DarkBlue': 'Other',\n",
    "    'PaleGreen': 'Other',\n",
    "    'White': 'Other',\n",
    "    'Yellow': 'Yellow',\n",
    "    'ambient': 'Other',\n",
    "})\n",
    "cleaned = undersample_class(cleaned, label='Other')\n",
    "cleaned.label.value_counts()"
   ]
  },
  {
   "cell_type": "code",
   "execution_count": 63,
   "id": "7af51f57-54fc-45bc-a1f7-67ffbd4ba0c6",
   "metadata": {},
   "outputs": [
    {
     "data": {
      "text/plain": [
       "train    63\n",
       "test     22\n",
       "Name: split, dtype: int64"
      ]
     },
     "execution_count": 63,
     "metadata": {},
     "output_type": "execute_result"
    }
   ],
   "source": [
    "from sklearn.model_selection import GroupShuffleSplit\n",
    "\n",
    "def test_split_grouped(df, group, test_size=0.20, random_state=3):\n",
    "    df = df.reset_index() # use numerical index\n",
    "    groups = df[group]\n",
    "\n",
    "    out = df.copy()\n",
    "    \n",
    "    gss = GroupShuffleSplit(n_splits=1, test_size=test_size, random_state=random_state)\n",
    "    for i, (train_index, test_index) in enumerate(gss.split(df, groups=groups)):\n",
    "\n",
    "        out.loc[train_index, 'split'] = 'train'\n",
    "        out.loc[test_index, 'split'] = 'test'\n",
    "    \n",
    "    return out\n",
    "\n",
    "prepared = test_split_grouped(cleaned, group='filename')\n",
    "prepared.split.value_counts()\n"
   ]
  },
  {
   "cell_type": "code",
   "execution_count": 65,
   "id": "a6c2a740-9d3b-490c-94ac-f6d4f7804668",
   "metadata": {},
   "outputs": [
    {
     "data": {
      "text/plain": [
       "(0.5, 1.1)"
      ]
     },
     "execution_count": 65,
     "metadata": {},
     "output_type": "execute_result"
    },
    {
     "data": {
      "image/png": "[encoded data removed]",
      "text/plain": [
       "<Figure size 640x480 with 1 Axes>"
      ]
     },
     "metadata": {},
     "output_type": "display_data"
    }
   ],
   "source": [
    "\n",
    "def evaluate_model(data, est,\n",
    "                   features = ['r', 'g', 'b'],\n",
    "                   group='filename',\n",
    "                   scorer='accuracy',\n",
    "                   random_state=3,\n",
    "                   folds=10,\n",
    "                   label = 'label',\n",
    "                   val_size=0.2):\n",
    "\n",
    "    X = data[features]\n",
    "    Y = data[label]\n",
    "    groups = data[group]\n",
    "\n",
    "    splitter = sklearn.model_selection.GroupShuffleSplit(n_splits=folds, test_size=val_size, random_state=random_state)\n",
    "    scores = cross_val_score(est, X=X, y=Y, scoring=scorer, error_score='raise', cv=splitter, groups=groups)\n",
    "\n",
    "    res = pandas.DataFrame({\n",
    "        scorer: scores,\n",
    "        'fold': numpy.arange(len(scores)),\n",
    "    })\n",
    "    \n",
    "    return res\n",
    "\n",
    "from sklearn.neighbors import KNeighborsClassifier, NearestCentroid\n",
    "\n",
    "import sklearn.pipeline\n",
    "from sklearn.model_selection import cross_val_score\n",
    "from sklearn.ensemble import RandomForestClassifier\n",
    "#from sklearn.preprocessing import StandardScaler, MinMaxScaler, FunctionTransformer\n",
    "\n",
    "\n",
    "\n",
    "model = RandomForestClassifier(n_estimators=10, min_samples_leaf=0.01, max_depth=5)\n",
    "\n",
    "features = ['r', 'g', 'b']\n",
    "train_data = prepared[prepared.split == 'train']\n",
    "results = evaluate_model(train_data, model, features=features)\n",
    "\n",
    "ax = results.plot(y='accuracy', kind='box')\n",
    "ax.set_ylim(0.5, 1.1)"
   ]
  },
  {
   "cell_type": "code",
   "execution_count": 66,
   "id": "b8c32f76-f5ea-4590-98fc-e8760ca7f47f",
   "metadata": {},
   "outputs": [
    {
     "data": {
      "text/plain": [
       "Purple    23\n",
       "Other     21\n",
       "Yellow    19\n",
       "Name: label, dtype: int64"
      ]
     },
     "execution_count": 66,
     "metadata": {},
     "output_type": "execute_result"
    }
   ],
   "source": [
    "train_data.label.value_counts()"
   ]
  },
  {
   "cell_type": "code",
   "execution_count": 67,
   "id": "876cd190-217a-48cc-a22b-6f679edd812c",
   "metadata": {},
   "outputs": [
    {
     "data": {
      "text/html": [
       "<style>#sk-container-id-3 {color: black;background-color: white;}#sk-container-id-3 pre{padding: 0;}#sk-container-id-3 div.sk-toggleable {background-color: white;}#sk-container-id-3 label.sk-toggleable__label {cursor: pointer;display: block;width: 100%;margin-bottom: 0;padding: 0.3em;box-sizing: border-box;text-align: center;}#sk-container-id-3 label.sk-toggleable__label-arrow:before {content: \"▸\";float: left;margin-right: 0.25em;color: #696969;}#sk-container-id-3 label.sk-toggleable__label-arrow:hover:before {color: black;}#sk-container-id-3 div.sk-estimator:hover label.sk-toggleable__label-arrow:before {color: black;}#sk-container-id-3 div.sk-toggleable__content {max-height: 0;max-width: 0;overflow: hidden;text-align: left;background-color: #f0f8ff;}#sk-container-id-3 div.sk-toggleable__content pre {margin: 0.2em;color: black;border-radius: 0.25em;background-color: #f0f8ff;}#sk-container-id-3 input.sk-toggleable__control:checked~div.sk-toggleable__content {max-height: 200px;max-width: 100%;overflow: auto;}#sk-container-id-3 input.sk-toggleable__control:checked~label.sk-toggleable__label-arrow:before {content: \"▾\";}#sk-container-id-3 div.sk-estimator input.sk-toggleable__control:checked~label.sk-toggleable__label {background-color: #d4ebff;}#sk-container-id-3 div.sk-label input.sk-toggleable__control:checked~label.sk-toggleable__label {background-color: #d4ebff;}#sk-container-id-3 input.sk-hidden--visually {border: 0;clip: rect(1px 1px 1px 1px);clip: rect(1px, 1px, 1px, 1px);height: 1px;margin: -1px;overflow: hidden;padding: 0;position: absolute;width: 1px;}#sk-container-id-3 div.sk-estimator {font-family: monospace;background-color: #f0f8ff;border: 1px dotted black;border-radius: 0.25em;box-sizing: border-box;margin-bottom: 0.5em;}#sk-container-id-3 div.sk-estimator:hover {background-color: #d4ebff;}#sk-container-id-3 div.sk-parallel-item::after {content: \"\";width: 100%;border-bottom: 1px solid gray;flex-grow: 1;}#sk-container-id-3 div.sk-label:hover label.sk-toggleable__label {background-color: #d4ebff;}#sk-container-id-3 div.sk-serial::before {content: \"\";position: absolute;border-left: 1px solid gray;box-sizing: border-box;top: 0;bottom: 0;left: 50%;z-index: 0;}#sk-container-id-3 div.sk-serial {display: flex;flex-direction: column;align-items: center;background-color: white;padding-right: 0.2em;padding-left: 0.2em;position: relative;}#sk-container-id-3 div.sk-item {position: relative;z-index: 1;}#sk-container-id-3 div.sk-parallel {display: flex;align-items: stretch;justify-content: center;background-color: white;position: relative;}#sk-container-id-3 div.sk-item::before, #sk-container-id-3 div.sk-parallel-item::before {content: \"\";position: absolute;border-left: 1px solid gray;box-sizing: border-box;top: 0;bottom: 0;left: 50%;z-index: -1;}#sk-container-id-3 div.sk-parallel-item {display: flex;flex-direction: column;z-index: 1;position: relative;background-color: white;}#sk-container-id-3 div.sk-parallel-item:first-child::after {align-self: flex-end;width: 50%;}#sk-container-id-3 div.sk-parallel-item:last-child::after {align-self: flex-start;width: 50%;}#sk-container-id-3 div.sk-parallel-item:only-child::after {width: 0;}#sk-container-id-3 div.sk-dashed-wrapped {border: 1px dashed gray;margin: 0 0.4em 0.5em 0.4em;box-sizing: border-box;padding-bottom: 0.4em;background-color: white;}#sk-container-id-3 div.sk-label label {font-family: monospace;font-weight: bold;display: inline-block;line-height: 1.2em;}#sk-container-id-3 div.sk-label-container {text-align: center;}#sk-container-id-3 div.sk-container {/* jupyter's `normalize.less` sets `[hidden] { display: none; }` but bootstrap.min.css set `[hidden] { display: none !important; }` so we also need the `!important` here to be able to override the default hidden behavior on the sphinx rendered scikit-learn.org. See: https://github.com/scikit-learn/scikit-learn/issues/21755 */display: inline-block !important;position: relative;}#sk-container-id-3 div.sk-text-repr-fallback {display: none;}</style><div id=\"sk-container-id-3\" class=\"sk-top-container\"><div class=\"sk-text-repr-fallback\"><pre>RandomForestClassifier(max_depth=5, min_samples_leaf=0.01, n_estimators=10)</pre><b>In a Jupyter environment, please rerun this cell to show the HTML representation or trust the notebook. <br />On GitHub, the HTML representation is unable to render, please try loading this page with nbviewer.org.</b></div><div class=\"sk-container\" hidden><div class=\"sk-item\"><div class=\"sk-estimator sk-toggleable\"><input class=\"sk-toggleable__control sk-hidden--visually\" id=\"sk-estimator-id-3\" type=\"checkbox\" checked><label for=\"sk-estimator-id-3\" class=\"sk-toggleable__label sk-toggleable__label-arrow\">RandomForestClassifier</label><div class=\"sk-toggleable__content\"><pre>RandomForestClassifier(max_depth=5, min_samples_leaf=0.01, n_estimators=10)</pre></div></div></div></div></div>"
      ],
      "text/plain": [
       "RandomForestClassifier(max_depth=5, min_samples_leaf=0.01, n_estimators=10)"
      ]
     },
     "execution_count": 67,
     "metadata": {},
     "output_type": "execute_result"
    }
   ],
   "source": [
    "trained = model.fit(train_data[features], train_data['label'])\n",
    "trained\n"
   ]
  },
  {
   "cell_type": "code",
   "execution_count": 68,
   "id": "677c39f5-432c-4387-a263-aad750bd1592",
   "metadata": {},
   "outputs": [],
   "source": [
    "# TODO: use emlearn to convert, write C code output"
   ]
  },
  {
   "cell_type": "code",
   "execution_count": 69,
   "id": "7a2751f8-fa59-4c0c-a60f-572aa3f740ff",
   "metadata": {},
   "outputs": [
    {
     "name": "stdout",
     "output_type": "stream",
     "text": [
      "emlearn 0.16.5\n"
     ]
    }
   ],
   "source": [
    "import emlearn\n",
    "print('emlearn', emlearn.__version__)\n",
    "\n",
    "cmodel = emlearn.convert(trained)\n",
    "cmodel.save(file='model.h', name='simple_rgb_pink_yellow_other');"
   ]
  },
  {
   "cell_type": "code",
   "execution_count": null,
   "id": "362da160-0cdd-463a-bbd3-5dce08045884",
   "metadata": {},
   "outputs": [],
   "source": []
  }
 ],
 "metadata": {
  "kernelspec": {
   "display_name": "Python 3 (ipykernel)",
   "language": "python",
   "name": "python3"
  },
  "language_info": {
   "codemirror_mode": {
    "name": "ipython",
    "version": 3
   },
   "file_extension": ".py",
   "mimetype": "text/x-python",
   "name": "python",
   "nbconvert_exporter": "python",
   "pygments_lexer": "ipython3",
   "version": "3.11.3"
  }
 },
 "nbformat": 4,
 "nbformat_minor": 5
}
