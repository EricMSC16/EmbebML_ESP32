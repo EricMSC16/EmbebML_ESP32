{
 "cells": [
  {
   "cell_type": "code",
   "execution_count": 33,
   "id": "dbb23d56-f284-44a1-8577-e2b47fcdceb9",
   "metadata": {},
   "outputs": [],
   "source": [
    "%load_ext autoreload\n",
    "%autoreload\n"
   ]
  },
  {
   "cell_type": "code",
   "execution_count": 5,
   "id": "26a01fb6-31b8-4be1-82d0-ef4556cdf340",
   "metadata": {},
   "outputs": [],
   "source": [
    "\n",
    "import pandas\n",
    "import numpy\n"
   ]
  },
  {
   "cell_type": "code",
   "execution_count": 29,
   "id": "70e9c336-74bc-4676-ae57-1df705dc5f0e",
   "metadata": {},
   "outputs": [
    {
     "data": {
      "text/html": [
       "<div>\n",
       "<style scoped>\n",
       "    .dataframe tbody tr th:only-of-type {\n",
       "        vertical-align: middle;\n",
       "    }\n",
       "\n",
       "    .dataframe tbody tr th {\n",
       "        vertical-align: top;\n",
       "    }\n",
       "\n",
       "    .dataframe thead th {\n",
       "        text-align: right;\n",
       "    }\n",
       "</style>\n",
       "<table border=\"1\" class=\"dataframe\">\n",
       "  <thead>\n",
       "    <tr style=\"text-align: right;\">\n",
       "      <th></th>\n",
       "      <th></th>\n",
       "      <th></th>\n",
       "      <th></th>\n",
       "      <th></th>\n",
       "      <th>samples</th>\n",
       "      <th>size</th>\n",
       "      <th>percent</th>\n",
       "    </tr>\n",
       "    <tr>\n",
       "      <th>buffers</th>\n",
       "      <th>channels</th>\n",
       "      <th>bits</th>\n",
       "      <th>samplerate</th>\n",
       "      <th>duration</th>\n",
       "      <th></th>\n",
       "      <th></th>\n",
       "      <th></th>\n",
       "    </tr>\n",
       "  </thead>\n",
       "  <tbody>\n",
       "    <tr>\n",
       "      <th rowspan=\"4\" valign=\"top\">2.00</th>\n",
       "      <th rowspan=\"4\" valign=\"top\">3</th>\n",
       "      <th rowspan=\"2\" valign=\"top\">16</th>\n",
       "      <th rowspan=\"2\" valign=\"top\">100</th>\n",
       "      <th>1.28</th>\n",
       "      <td>128</td>\n",
       "      <td>1536</td>\n",
       "      <td>37.5%</td>\n",
       "    </tr>\n",
       "    <tr>\n",
       "      <th>2.56</th>\n",
       "      <td>256</td>\n",
       "      <td>3072</td>\n",
       "      <td>75.0%</td>\n",
       "    </tr>\n",
       "    <tr>\n",
       "      <th rowspan=\"2\" valign=\"top\">8</th>\n",
       "      <th rowspan=\"2\" valign=\"top\">50</th>\n",
       "      <th>1.28</th>\n",
       "      <td>64</td>\n",
       "      <td>384</td>\n",
       "      <td>9.4%</td>\n",
       "    </tr>\n",
       "    <tr>\n",
       "      <th>2.56</th>\n",
       "      <td>128</td>\n",
       "      <td>768</td>\n",
       "      <td>18.8%</td>\n",
       "    </tr>\n",
       "    <tr>\n",
       "      <th>1.25</th>\n",
       "      <th>3</th>\n",
       "      <th>8</th>\n",
       "      <th>50</th>\n",
       "      <th>2.56</th>\n",
       "      <td>128</td>\n",
       "      <td>480</td>\n",
       "      <td>11.7%</td>\n",
       "    </tr>\n",
       "  </tbody>\n",
       "</table>\n",
       "</div>"
      ],
      "text/plain": [
       "                                           samples  size percent\n",
       "buffers channels bits samplerate duration                       \n",
       "2.00    3        16   100        1.28          128  1536   37.5%\n",
       "                                 2.56          256  3072   75.0%\n",
       "                 8    50         1.28           64   384    9.4%\n",
       "                                 2.56          128   768   18.8%\n",
       "1.25    3        8    50         2.56          128   480   11.7%"
      ]
     },
     "execution_count": 29,
     "metadata": {},
     "output_type": "execute_result"
    }
   ],
   "source": [
    "\n",
    "cases = pandas.DataFrame([\n",
    "\n",
    "    # original\n",
    "    (2, 3, 16, 100, 1.28),\n",
    "    (2, 3, 16, 100, 2.56),\n",
    "\n",
    "    # half samplerate, half bitwidth\n",
    "    (2, 3, 8, 50, 1.28), \n",
    "    (2, 3, 8, 50, 2.56),\n",
    "\n",
    "    (1.25, 3, 8, 50, 2.56),\n",
    "], columns=['buffers', 'channels', 'bits', 'samplerate', 'duration'])\n",
    "\n",
    "c = cases\n",
    "c['samples'] = (c.samplerate*c.duration).astype(int)\n",
    "c['size'] = numpy.ceil(c.buffers*c.channels*numpy.ceil(c.bits/8)*c.samples).astype(int)\n",
    "c['percent'] = ((c['size'] / 4096) * 100).round(1).astype(str) + '%'\n",
    "\n",
    "cases = c.set_index(['buffers', 'channels', 'bits', 'samplerate', 'duration'])\n",
    "cases"
   ]
  },
  {
   "cell_type": "code",
   "execution_count": 31,
   "id": "db731770-4cca-4507-bb27-97a7442cc6ed",
   "metadata": {},
   "outputs": [
    {
     "data": {
      "text/plain": [
       "'<table border=\"1\" class=\"dataframe\">\\n  <thead>\\n    <tr style=\"text-align: right;\">\\n      <th></th>\\n      <th></th>\\n      <th></th>\\n      <th></th>\\n      <th></th>\\n      <th>samples</th>\\n      <th>size</th>\\n      <th>percent</th>\\n    </tr>\\n    <tr>\\n      <th>buffers</th>\\n      <th>channels</th>\\n      <th>bits</th>\\n      <th>samplerate</th>\\n      <th>duration</th>\\n      <th></th>\\n      <th></th>\\n      <th></th>\\n    </tr>\\n  </thead>\\n  <tbody>\\n    <tr>\\n      <th rowspan=\"4\" valign=\"top\">2.00</th>\\n      <th rowspan=\"4\" valign=\"top\">3</th>\\n      <th rowspan=\"2\" valign=\"top\">16</th>\\n      <th rowspan=\"2\" valign=\"top\">100</th>\\n      <th>1.28</th>\\n      <td>128</td>\\n      <td>1536</td>\\n      <td>37.5%</td>\\n    </tr>\\n    <tr>\\n      <th>2.56</th>\\n      <td>256</td>\\n      <td>3072</td>\\n      <td>75.0%</td>\\n    </tr>\\n    <tr>\\n      <th rowspan=\"2\" valign=\"top\">8</th>\\n      <th rowspan=\"2\" valign=\"top\">50</th>\\n      <th>1.28</th>\\n      <td>64</td>\\n      <td>384</td>\\n      <td>9.4%</td>\\n    </tr>\\n    <tr>\\n      <th>2.56</th>\\n      <td>128</td>\\n      <td>768</td>\\n      <td>18.8%</td>\\n    </tr>\\n    <tr>\\n      <th>1.25</th>\\n      <th>3</th>\\n      <th>8</th>\\n      <th>50</th>\\n      <th>2.56</th>\\n      <td>128</td>\\n      <td>480</td>\\n      <td>11.7%</td>\\n    </tr>\\n  </tbody>\\n</table>'"
      ]
     },
     "execution_count": 31,
     "metadata": {},
     "output_type": "execute_result"
    }
   ],
   "source": [
    "cases.to_html()"
   ]
  },
  {
   "cell_type": "code",
   "execution_count": null,
   "id": "958637bd-2f28-4816-a08f-28fd15363607",
   "metadata": {},
   "outputs": [],
   "source": []
  }
 ],
 "metadata": {
  "kernelspec": {
   "display_name": "Python 3 (ipykernel)",
   "language": "python",
   "name": "python3"
  },
  "language_info": {
   "codemirror_mode": {
    "name": "ipython",
    "version": 3
   },
   "file_extension": ".py",
   "mimetype": "text/x-python",
   "name": "python",
   "nbconvert_exporter": "python",
   "pygments_lexer": "ipython3",
   "version": "3.11.6"
  }
 },
 "nbformat": 4,
 "nbformat_minor": 5
}
